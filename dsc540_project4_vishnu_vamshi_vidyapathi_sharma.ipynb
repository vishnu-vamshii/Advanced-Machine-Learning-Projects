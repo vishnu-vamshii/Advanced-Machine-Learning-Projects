{
 "cells": [
  {
   "cell_type": "markdown",
   "metadata": {},
   "source": [
    "# DSC540 Project 4"
   ]
  },
  {
   "cell_type": "markdown",
   "metadata": {},
   "source": [
    "DePaul University  \n",
    "Ilyas Ustun, PhD  \n",
    "Chicago, IL  "
   ]
  },
  {
   "cell_type": "markdown",
   "metadata": {},
   "source": [
    "## Rules\n",
    "- Write your code under the corresponding questions where you see `# Code here`. You are encouraged to use more than one cell.\n",
    "- Provide explanation in a separate Markdown formatted cell. \n",
    "- You can change the cell type by:\n",
    "    - Clicking on the outer area of the cell type you want to change,\n",
    "    - Go to the top, and select either Code or Markdown from the dropdown menu.\n",
    "- Be concise in your explanations and conclusions.\n",
    "- Write clear code and provide explanation to functions you create by using `#` comment sign.\n",
    "- For built-in function and methods you use from libraries, provide a very brief explanation of what they do.\n",
    "- Try to answer the questions by yourself. Use documentation from pandas, sklearn and similar libraries to solve the problem.\n",
    "- If you are stuck you can use different resources. Do not find an identical project and copy paste the solutions. \n",
    "- Write your name before beginning to code.\n",
    "\n",
    "\n",
    "Important:  \n",
    "- **Do NOT share the solutions with other people.**\n",
    "- **Do NOT share the solutions on the internet including but not limited to Github and other platforms.**\n",
    "- Sign the Honor Pledge below indicating that you have agreed to these rules listed here, and any other ethical and honor rules as required by the university.\n",
    "\n",
    "\n",
    "\n",
    "- **Deliverables:**\n",
    "    1. The Python Jupyter notebook file named properly with your name. Example: dsc540_project1_john_doe.ipynb\n",
    "    2. The HTML output of this code notebook names the same way. Example: dsc540_project1_john_doe.html\n",
    "        - File -> Download as -> HTML   \n",
    "\n",
    "Good Luck!"
   ]
  },
  {
   "cell_type": "markdown",
   "metadata": {},
   "source": [
    "### YOUR NAME HERE"
   ]
  },
  {
   "cell_type": "markdown",
   "metadata": {},
   "source": [
    "**Honor Pledge:**  \n",
    "I pledge on my honor that I, **Vishnu Vamshi Vidyapathi Sharma**, have followed the rules listed above, that I have not given or received any unauthorized assistance on this assignment. \n"
   ]
  },
  {
   "cell_type": "markdown",
   "metadata": {},
   "source": [
    "## Q1 [10]"
   ]
  },
  {
   "cell_type": "markdown",
   "metadata": {},
   "source": [
    "A drug company would like to introduce a drug to help patients with Alzheimer's. It is desirable to estimate $θ$, the proportion of the market share that this drug will capture. \n",
    "- The company interviews 100 people and 15 of them say that they will buy the drug. (This the observed data: n=100, observed=15) $->$ likelihood\n",
    "- If in the past new drugs tend to capture a proportion between say .10 and .40 of the market, and if all values in between are assumed equally likely, then $θ ∼ Unif(0.10, 0.40)$ $->$ prior"
   ]
  },
  {
   "cell_type": "markdown",
   "metadata": {},
   "source": [
    "### What is the traceplot of $\\theta$ using Bayesian analysis to estimate the market share for the new drug?\n",
    "- Sample 10000 draws\n",
    "- Plot the traceplot"
   ]
  },
  {
   "cell_type": "code",
   "execution_count": 1,
   "metadata": {},
   "outputs": [],
   "source": [
    "import pymc3 as pm\n",
    "import arviz as az"
   ]
  },
  {
   "cell_type": "code",
   "execution_count": 2,
   "metadata": {},
   "outputs": [
    {
     "name": "stderr",
     "output_type": "stream",
     "text": [
      "/opt/anaconda3/lib/python3.9/site-packages/deprecat/classic.py:215: FutureWarning: In v4.0, pm.sample will return an `arviz.InferenceData` object instead of a `MultiTrace` by default. You can pass return_inferencedata=True or return_inferencedata=False to be safe and silence this warning.\n",
      "  return wrapped_(*args_, **kwargs_)\n",
      "Auto-assigning NUTS sampler...\n",
      "Initializing NUTS using jitter+adapt_diag...\n",
      "Sequential sampling (2 chains in 1 job)\n",
      "NUTS: [theta]\n"
     ]
    },
    {
     "data": {
      "text/html": [
       "\n",
       "<style>\n",
       "    /* Turns off some styling */\n",
       "    progress {\n",
       "        /* gets rid of default border in Firefox and Opera. */\n",
       "        border: none;\n",
       "        /* Needs to be in here for Safari polyfill so background images work as expected. */\n",
       "        background-size: auto;\n",
       "    }\n",
       "    progress:not([value]), progress:not([value])::-webkit-progress-bar {\n",
       "        background: repeating-linear-gradient(45deg, #7e7e7e, #7e7e7e 10px, #5c5c5c 10px, #5c5c5c 20px);\n",
       "    }\n",
       "    .progress-bar-interrupted, .progress-bar-interrupted::-webkit-progress-bar {\n",
       "        background: #F44336;\n",
       "    }\n",
       "</style>\n"
      ],
      "text/plain": [
       "<IPython.core.display.HTML object>"
      ]
     },
     "metadata": {},
     "output_type": "display_data"
    },
    {
     "data": {
      "text/html": [
       "\n",
       "    <div>\n",
       "      <progress value='12000' class='' max='12000' style='width:300px; height:20px; vertical-align: middle;'></progress>\n",
       "      100.00% [12000/12000 00:05&lt;00:00 Sampling chain 0, 0 divergences]\n",
       "    </div>\n",
       "    "
      ],
      "text/plain": [
       "<IPython.core.display.HTML object>"
      ]
     },
     "metadata": {},
     "output_type": "display_data"
    },
    {
     "data": {
      "text/html": [
       "\n",
       "<style>\n",
       "    /* Turns off some styling */\n",
       "    progress {\n",
       "        /* gets rid of default border in Firefox and Opera. */\n",
       "        border: none;\n",
       "        /* Needs to be in here for Safari polyfill so background images work as expected. */\n",
       "        background-size: auto;\n",
       "    }\n",
       "    progress:not([value]), progress:not([value])::-webkit-progress-bar {\n",
       "        background: repeating-linear-gradient(45deg, #7e7e7e, #7e7e7e 10px, #5c5c5c 10px, #5c5c5c 20px);\n",
       "    }\n",
       "    .progress-bar-interrupted, .progress-bar-interrupted::-webkit-progress-bar {\n",
       "        background: #F44336;\n",
       "    }\n",
       "</style>\n"
      ],
      "text/plain": [
       "<IPython.core.display.HTML object>"
      ]
     },
     "metadata": {},
     "output_type": "display_data"
    },
    {
     "data": {
      "text/html": [
       "\n",
       "    <div>\n",
       "      <progress value='12000' class='' max='12000' style='width:300px; height:20px; vertical-align: middle;'></progress>\n",
       "      100.00% [12000/12000 00:03&lt;00:00 Sampling chain 1, 0 divergences]\n",
       "    </div>\n",
       "    "
      ],
      "text/plain": [
       "<IPython.core.display.HTML object>"
      ]
     },
     "metadata": {},
     "output_type": "display_data"
    },
    {
     "name": "stderr",
     "output_type": "stream",
     "text": [
      "Sampling 2 chains for 2_000 tune and 10_000 draw iterations (4_000 + 20_000 draws total) took 10 seconds.\n"
     ]
    },
    {
     "data": {
      "image/png": "[encoded data removed]",
      "text/plain": [
       "<Figure size 864x144 with 2 Axes>"
      ]
     },
     "metadata": {
      "needs_background": "light"
     },
     "output_type": "display_data"
    }
   ],
   "source": [
    "with pm.Model() as model:\n",
    "    \n",
    "    # Priors for unknown model parameters\n",
    "    theta = pm.Uniform('theta', lower=0.10, upper=0.40)\n",
    "    \n",
    "    # Likelihood\n",
    "    x = pm.Binomial('x', n=100, p=theta, observed=15)\n",
    "\n",
    "    # Posterior\n",
    "    # draw 10000 posterior samples\n",
    "    trace = pm.sample(10000, tune=2000, cores=1)\n",
    "    \n",
    "    # Plot the trace plot\n",
    "    az.plot_trace(trace)"
   ]
  },
  {
   "cell_type": "markdown",
   "metadata": {},
   "source": [
    "### Plot the posterior distribution plot of $ \\theta $\n",
    "- What is the mean posterior value?"
   ]
  },
  {
   "cell_type": "code",
   "execution_count": 3,
   "metadata": {},
   "outputs": [
    {
     "name": "stderr",
     "output_type": "stream",
     "text": [
      "Got error No model on context stack. trying to find log_likelihood in translation.\n",
      "/opt/anaconda3/lib/python3.9/site-packages/arviz/data/io_pymc3_3x.py:98: FutureWarning: Using `from_pymc3` without the model will be deprecated in a future release. Not using the model will return less accurate and less useful results. Make sure you use the model argument or call from_pymc3 within a model context.\n",
      "  warnings.warn(\n"
     ]
    },
    {
     "data": {
      "image/png": "[encoded data removed]",
      "text/plain": [
       "<Figure size 432x288 with 1 Axes>"
      ]
     },
     "metadata": {
      "needs_background": "light"
     },
     "output_type": "display_data"
    }
   ],
   "source": [
    "az.plot_posterior(trace);"
   ]
  },
  {
   "cell_type": "markdown",
   "metadata": {},
   "source": [
    "\n",
    "## Bayesian Network Analysis\n",
    "\n",
    "In this part we will be analyzing medical diagnosis using Bayes Nets. The structure and the Conditional Probabability Distribution tables are shown in the figure below."
   ]
  },
  {
   "cell_type": "markdown",
   "metadata": {},
   "source": [
    "![MedicalDiagnosis](Med-diag-bnet.jpg)"
   ]
  },
  {
   "cell_type": "markdown",
   "metadata": {},
   "source": [
    "- In the first few questions you will build the Bayes Net, set up the Conditional Probability Distribution tables, and associate the CPDs to the network.   \n",
    "- These steps are extremely important and crucial. Make sure you do the set up correctly, as everything else depends on that.   "
   ]
  },
  {
   "cell_type": "markdown",
   "metadata": {},
   "source": [
    "## Import Libraries\n",
    "\n",
    "**Import the usual libraries for pandas and plotting, and sklearn.**"
   ]
  },
  {
   "cell_type": "code",
   "execution_count": 6,
   "metadata": {},
   "outputs": [],
   "source": [
    "import pandas as pd\n",
    "import numpy as np\n",
    "import matplotlib.pyplot as plt\n",
    "import seaborn as sns\n",
    "\n",
    "from sklearn import metrics"
   ]
  },
  {
   "cell_type": "code",
   "execution_count": 8,
   "metadata": {},
   "outputs": [
    {
     "name": "stdout",
     "output_type": "stream",
     "text": [
      "Collecting pgmpy\n",
      "  Downloading pgmpy-0.1.25-py3-none-any.whl (2.0 MB)\n",
      "\u001b[K     |████████████████████████████████| 2.0 MB 4.4 MB/s eta 0:00:01\n",
      "\u001b[?25hRequirement already satisfied: networkx in /opt/anaconda3/lib/python3.9/site-packages (from pgmpy) (2.7.1)\n",
      "Requirement already satisfied: scipy in /opt/anaconda3/lib/python3.9/site-packages (from pgmpy) (1.7.3)\n",
      "Requirement already satisfied: scikit-learn in /opt/anaconda3/lib/python3.9/site-packages (from pgmpy) (1.0.2)\n",
      "Collecting torch\n",
      "  Downloading torch-2.2.1-cp39-none-macosx_10_9_x86_64.whl (150.8 MB)\n",
      "\u001b[K     |████████████████████████████████| 150.8 MB 344 kB/s eta 0:00:015\n",
      "\u001b[?25hCollecting opt-einsum\n",
      "  Downloading opt_einsum-3.3.0-py3-none-any.whl (65 kB)\n",
      "\u001b[K     |████████████████████████████████| 65 kB 6.3 MB/s  eta 0:00:01\n",
      "\u001b[?25hRequirement already satisfied: pandas in /opt/anaconda3/lib/python3.9/site-packages (from pgmpy) (1.4.2)\n",
      "Requirement already satisfied: pyparsing in /opt/anaconda3/lib/python3.9/site-packages (from pgmpy) (3.0.4)\n",
      "Requirement already satisfied: tqdm in /opt/anaconda3/lib/python3.9/site-packages (from pgmpy) (4.64.0)\n",
      "Requirement already satisfied: joblib in /opt/anaconda3/lib/python3.9/site-packages (from pgmpy) (1.3.2)\n",
      "Requirement already satisfied: statsmodels in /opt/anaconda3/lib/python3.9/site-packages (from pgmpy) (0.13.2)\n",
      "Requirement already satisfied: numpy in /opt/anaconda3/lib/python3.9/site-packages (from pgmpy) (1.22.4)\n",
      "Requirement already satisfied: python-dateutil>=2.8.1 in /opt/anaconda3/lib/python3.9/site-packages (from pandas->pgmpy) (2.8.2)\n",
      "Requirement already satisfied: pytz>=2020.1 in /opt/anaconda3/lib/python3.9/site-packages (from pandas->pgmpy) (2021.3)\n",
      "Requirement already satisfied: six>=1.5 in /opt/anaconda3/lib/python3.9/site-packages (from python-dateutil>=2.8.1->pandas->pgmpy) (1.16.0)\n",
      "Requirement already satisfied: threadpoolctl>=2.0.0 in /opt/anaconda3/lib/python3.9/site-packages (from scikit-learn->pgmpy) (2.2.0)\n",
      "Requirement already satisfied: patsy>=0.5.2 in /opt/anaconda3/lib/python3.9/site-packages (from statsmodels->pgmpy) (0.5.2)\n",
      "Requirement already satisfied: packaging>=21.3 in /opt/anaconda3/lib/python3.9/site-packages (from statsmodels->pgmpy) (21.3)\n",
      "Requirement already satisfied: filelock in /opt/anaconda3/lib/python3.9/site-packages (from torch->pgmpy) (3.6.0)\n",
      "Collecting typing-extensions>=4.8.0\n",
      "  Downloading typing_extensions-4.10.0-py3-none-any.whl (33 kB)\n",
      "Requirement already satisfied: fsspec in /opt/anaconda3/lib/python3.9/site-packages (from torch->pgmpy) (2022.2.0)\n",
      "Requirement already satisfied: sympy in /opt/anaconda3/lib/python3.9/site-packages (from torch->pgmpy) (1.10.1)\n",
      "Requirement already satisfied: jinja2 in /opt/anaconda3/lib/python3.9/site-packages (from torch->pgmpy) (2.11.3)\n",
      "Requirement already satisfied: MarkupSafe>=0.23 in /opt/anaconda3/lib/python3.9/site-packages (from jinja2->torch->pgmpy) (2.0.1)\n",
      "Requirement already satisfied: mpmath>=0.19 in /opt/anaconda3/lib/python3.9/site-packages (from sympy->torch->pgmpy) (1.2.1)\n",
      "Installing collected packages: typing-extensions, torch, opt-einsum, pgmpy\n",
      "  Attempting uninstall: typing-extensions\n",
      "    Found existing installation: typing-extensions 4.1.1\n",
      "    Uninstalling typing-extensions-4.1.1:\n",
      "      Successfully uninstalled typing-extensions-4.1.1\n",
      "\u001b[31mERROR: pip's dependency resolver does not currently take into account all the packages that are installed. This behaviour is the source of the following dependency conflicts.\n",
      "pymc3 3.11.5 requires numpy<1.22.2,>=1.15.0, but you have numpy 1.22.4 which is incompatible.\u001b[0m\n",
      "Successfully installed opt-einsum-3.3.0 pgmpy-0.1.25 torch-2.2.1 typing-extensions-4.10.0\n"
     ]
    }
   ],
   "source": [
    "!pip install pgmpy"
   ]
  },
  {
   "cell_type": "code",
   "execution_count": 9,
   "metadata": {},
   "outputs": [],
   "source": [
    "# import pgmpy\n",
    "from pgmpy.models import BayesianModel\n",
    "from pgmpy.factors.discrete import TabularCPD"
   ]
  },
  {
   "cell_type": "code",
   "execution_count": 10,
   "metadata": {},
   "outputs": [
    {
     "data": {
      "text/plain": [
       "'1.0.2'"
      ]
     },
     "execution_count": 10,
     "metadata": {},
     "output_type": "execute_result"
    }
   ],
   "source": [
    "import sklearn\n",
    "sklearn.__version__"
   ]
  },
  {
   "cell_type": "markdown",
   "metadata": {},
   "source": [
    "### These are the packages I used"
   ]
  },
  {
   "cell_type": "code",
   "execution_count": 4,
   "metadata": {},
   "outputs": [],
   "source": [
    "# Your package imports here"
   ]
  },
  {
   "cell_type": "code",
   "execution_count": null,
   "metadata": {},
   "outputs": [],
   "source": []
  },
  {
   "cell_type": "markdown",
   "metadata": {},
   "source": [
    "## Q2 [10]\n",
    "\n",
    "**Define the model structure.** \n",
    "\n",
    "You need to define the network by passing a list of edges. "
   ]
  },
  {
   "cell_type": "code",
   "execution_count": 11,
   "metadata": {},
   "outputs": [
    {
     "name": "stderr",
     "output_type": "stream",
     "text": [
      "WARNING:pgmpy:BayesianModel has been renamed to BayesianNetwork. Please use BayesianNetwork class, BayesianModel will be removed in future.\n"
     ]
    }
   ],
   "source": [
    "model = BayesianModel([('Smokes', 'LungDisease'), ('LungDisease', 'ShortnessBreath'), ('LungDisease', 'ChestPain'), ('LungDisease', 'Cough'), ('Cold', 'Cough'), ('Cold', 'Fever')])"
   ]
  },
  {
   "cell_type": "code",
   "execution_count": 13,
   "metadata": {},
   "outputs": [
    {
     "name": "stdout",
     "output_type": "stream",
     "text": [
      "[('Smokes', 'LungDisease'), ('LungDisease', 'ShortnessBreath'), ('LungDisease', 'ChestPain'), ('LungDisease', 'Cough'), ('Cold', 'Cough'), ('Cold', 'Fever')]\n"
     ]
    }
   ],
   "source": [
    "print(model.edges)"
   ]
  },
  {
   "cell_type": "markdown",
   "metadata": {},
   "source": [
    "## Q3 [15] \n",
    "\n",
    "**Define individual CPDs**\n",
    "- Define the CPDs using the state names of the variables. "
   ]
  },
  {
   "cell_type": "code",
   "execution_count": 16,
   "metadata": {
    "scrolled": true
   },
   "outputs": [
    {
     "name": "stdout",
     "output_type": "stream",
     "text": [
      "+-----------+-----+\n",
      "| Smokes(T) | 0.2 |\n",
      "+-----------+-----+\n",
      "| Smokes(F) | 0.8 |\n",
      "+-----------+-----+\n",
      "+----------------+-----------+-----------+\n",
      "| Smokes         | Smokes(T) | Smokes(F) |\n",
      "+----------------+-----------+-----------+\n",
      "| LungDisease(T) | 0.1009    | 0.001     |\n",
      "+----------------+-----------+-----------+\n",
      "| LungDisease(F) | 0.8991    | 0.999     |\n",
      "+----------------+-----------+-----------+\n"
     ]
    }
   ],
   "source": [
    "cpd_Smokes = TabularCPD(variable='Smokes', variable_card=2, values=[[0.2], [0.8]], state_names={'Smokes' : ['T', 'F']})\n",
    "print(cpd_Smokes)\n",
    "\n",
    "\n",
    "cpd_LungDisease = TabularCPD(variable='LungDisease', \n",
    "                             variable_card=2, \n",
    "                             values=[[0.1009, 0.001],\n",
    "                                     [0.8991, 0.999]],\n",
    "                             evidence=['Smokes'],\n",
    "                             evidence_card=[2],\n",
    "                            state_names={'Smokes' : ['T', 'F'], 'LungDisease' : ['T', 'F']})\n",
    "\n",
    "cpd_ShortnessBreath = TabularCPD(variable = 'ShortnessBreath',\n",
    "                                     variable_card = 2,\n",
    "                                     values = [[0.208, 0.01],\n",
    "                                               [0.792, 0.99]],\n",
    "                                     evidence = ['LungDisease'],\n",
    "                                     evidence_card=[2],\n",
    "                                     state_names={'LungDisease' : ['T', 'F'], 'ShortnessBreath' : ['T', 'F']})\n",
    "cpd_ChestPain = TabularCPD(variable = 'ChestPain',\n",
    "                           variable_card=2,\n",
    "                           values = [[0.208, 0.01],\n",
    "                                     [0.792, 0.99]],\n",
    "                           evidence = ['LungDisease'],\n",
    "                           evidence_card = [2],\n",
    "                           state_names = {'LungDisease': ['T', 'F'], 'ChestPain': ['T', 'F']})\n",
    "cpd_Cough = TabularCPD(variable='Cough', \n",
    "                       variable_card=2,\n",
    "                       values = [[0.7525, 0.505, 0.505, 0.01],\n",
    "                                 [0.2475, 0.495, 0.495, 0.99]],\n",
    "                       evidence = ['LungDisease', 'Cold'],\n",
    "                       evidence_card = [2, 2],\n",
    "                       state_names = {'LungDisease': ['T', 'F'], 'Cold': ['T', 'F'], 'Cough': ['T', 'F']})\n",
    "cpd_Fever = TabularCPD(variable = 'Fever',\n",
    "                       variable_card = 2,\n",
    "                       values = [[0.307,0.01],\n",
    "                                 [0.693, 0.99]],\n",
    "                       evidence = ['Cold'],\n",
    "                       evidence_card = [2],\n",
    "                       state_names = {'Cold': ['T', 'F'], 'Fever': ['T', 'F']})\n",
    "cpd_Cold = TabularCPD(variable = 'Cold',\n",
    "                      variable_card = 2,\n",
    "                      values = [[0.02], [0.98]],\n",
    "                      state_names = {'Cold': ['T', 'F']})\n",
    "\n",
    "\n",
    "print(cpd_LungDisease)\n",
    "\n"
   ]
  },
  {
   "cell_type": "markdown",
   "metadata": {},
   "source": [
    "## Q4 [5] \n",
    "- Check that each of the CPDs are correct"
   ]
  },
  {
   "cell_type": "code",
   "execution_count": 18,
   "metadata": {},
   "outputs": [
    {
     "data": {
      "text/plain": [
       "<TabularCPD representing P(Smokes:2) at 0x7fb3aa5c5640>"
      ]
     },
     "execution_count": 18,
     "metadata": {},
     "output_type": "execute_result"
    }
   ],
   "source": [
    "cpd_Smokes"
   ]
  },
  {
   "cell_type": "code",
   "execution_count": 19,
   "metadata": {},
   "outputs": [
    {
     "name": "stdout",
     "output_type": "stream",
     "text": [
      "+-----------+-----+\n",
      "| Smokes(T) | 0.2 |\n",
      "+-----------+-----+\n",
      "| Smokes(F) | 0.8 |\n",
      "+-----------+-----+\n"
     ]
    }
   ],
   "source": [
    "print(cpd_Smokes)"
   ]
  },
  {
   "cell_type": "code",
   "execution_count": 20,
   "metadata": {},
   "outputs": [
    {
     "name": "stdout",
     "output_type": "stream",
     "text": [
      "+--------------------+----------------+----------------+\n",
      "| LungDisease        | LungDisease(T) | LungDisease(F) |\n",
      "+--------------------+----------------+----------------+\n",
      "| ShortnessBreath(T) | 0.208          | 0.01           |\n",
      "+--------------------+----------------+----------------+\n",
      "| ShortnessBreath(F) | 0.792          | 0.99           |\n",
      "+--------------------+----------------+----------------+\n"
     ]
    }
   ],
   "source": [
    "# Your code\n",
    "print(cpd_ShortnessBreath)"
   ]
  },
  {
   "cell_type": "code",
   "execution_count": 21,
   "metadata": {},
   "outputs": [
    {
     "name": "stdout",
     "output_type": "stream",
     "text": [
      "+--------------+----------------+----------------+\n",
      "| LungDisease  | LungDisease(T) | LungDisease(F) |\n",
      "+--------------+----------------+----------------+\n",
      "| ChestPain(T) | 0.208          | 0.01           |\n",
      "+--------------+----------------+----------------+\n",
      "| ChestPain(F) | 0.792          | 0.99           |\n",
      "+--------------+----------------+----------------+\n"
     ]
    }
   ],
   "source": [
    "print(cpd_ChestPain)"
   ]
  },
  {
   "cell_type": "code",
   "execution_count": 22,
   "metadata": {},
   "outputs": [
    {
     "name": "stdout",
     "output_type": "stream",
     "text": [
      "+-------------+----------------+-----+----------------+----------------+\n",
      "| LungDisease | LungDisease(T) | ... | LungDisease(F) | LungDisease(F) |\n",
      "+-------------+----------------+-----+----------------+----------------+\n",
      "| Cold        | Cold(T)        | ... | Cold(T)        | Cold(F)        |\n",
      "+-------------+----------------+-----+----------------+----------------+\n",
      "| Cough(T)    | 0.7525         | ... | 0.505          | 0.01           |\n",
      "+-------------+----------------+-----+----------------+----------------+\n",
      "| Cough(F)    | 0.2475         | ... | 0.495          | 0.99           |\n",
      "+-------------+----------------+-----+----------------+----------------+\n"
     ]
    }
   ],
   "source": [
    "print(cpd_Cough)"
   ]
  },
  {
   "cell_type": "code",
   "execution_count": 23,
   "metadata": {},
   "outputs": [
    {
     "name": "stdout",
     "output_type": "stream",
     "text": [
      "+----------+---------+---------+\n",
      "| Cold     | Cold(T) | Cold(F) |\n",
      "+----------+---------+---------+\n",
      "| Fever(T) | 0.307   | 0.01    |\n",
      "+----------+---------+---------+\n",
      "| Fever(F) | 0.693   | 0.99    |\n",
      "+----------+---------+---------+\n"
     ]
    }
   ],
   "source": [
    "print(cpd_Fever)"
   ]
  },
  {
   "cell_type": "code",
   "execution_count": 24,
   "metadata": {},
   "outputs": [
    {
     "name": "stdout",
     "output_type": "stream",
     "text": [
      "+---------+------+\n",
      "| Cold(T) | 0.02 |\n",
      "+---------+------+\n",
      "| Cold(F) | 0.98 |\n",
      "+---------+------+\n"
     ]
    }
   ],
   "source": [
    "print(cpd_Cold)"
   ]
  },
  {
   "cell_type": "markdown",
   "metadata": {},
   "source": [
    "## Q5 [5]\n",
    "- Add the defined CPDs to the model (Associate the CPDs with the network)"
   ]
  },
  {
   "cell_type": "code",
   "execution_count": 25,
   "metadata": {},
   "outputs": [
    {
     "data": {
      "text/plain": [
       "True"
      ]
     },
     "execution_count": 25,
     "metadata": {},
     "output_type": "execute_result"
    }
   ],
   "source": [
    "model.add_cpds(cpd_Smokes, cpd_LungDisease, cpd_ShortnessBreath, cpd_ChestPain, cpd_Cold, cpd_Cough, cpd_Fever)\n",
    "model.check_model()"
   ]
  },
  {
   "cell_type": "code",
   "execution_count": 26,
   "metadata": {},
   "outputs": [
    {
     "data": {
      "text/plain": [
       "[<TabularCPD representing P(Smokes:2) at 0x7fb3aa5c5640>,\n",
       " <TabularCPD representing P(LungDisease:2 | Smokes:2) at 0x7fb3a51f2be0>,\n",
       " <TabularCPD representing P(ShortnessBreath:2 | LungDisease:2) at 0x7fb3a51f2070>,\n",
       " <TabularCPD representing P(ChestPain:2 | LungDisease:2) at 0x7fb3a51f2220>,\n",
       " <TabularCPD representing P(Cold:2) at 0x7fb3a5916fa0>,\n",
       " <TabularCPD representing P(Cough:2 | LungDisease:2, Cold:2) at 0x7fb3a51f2130>,\n",
       " <TabularCPD representing P(Fever:2 | Cold:2) at 0x7fb3a51f2850>]"
      ]
     },
     "execution_count": 26,
     "metadata": {},
     "output_type": "execute_result"
    }
   ],
   "source": [
    "model.get_cpds()"
   ]
  },
  {
   "cell_type": "markdown",
   "metadata": {},
   "source": [
    "## Q6 [5]\n",
    "- The cardinality of each of the nodes is 2 - True or False?"
   ]
  },
  {
   "cell_type": "code",
   "execution_count": 27,
   "metadata": {},
   "outputs": [
    {
     "data": {
      "text/plain": [
       "defaultdict(int,\n",
       "            {'Smokes': 2,\n",
       "             'LungDisease': 2,\n",
       "             'ShortnessBreath': 2,\n",
       "             'ChestPain': 2,\n",
       "             'Cold': 2,\n",
       "             'Cough': 2,\n",
       "             'Fever': 2})"
      ]
     },
     "execution_count": 27,
     "metadata": {},
     "output_type": "execute_result"
    }
   ],
   "source": [
    "# Your code\n",
    "model.get_cardinality()"
   ]
  },
  {
   "cell_type": "markdown",
   "metadata": {},
   "source": [
    "TRUE, it is 2"
   ]
  },
  {
   "cell_type": "markdown",
   "metadata": {},
   "source": [
    "### Q7 [10] \n",
    "**Find the probability of each event hapenning using the variable elimination method.**\n",
    "- $ P(Smokes) $\n",
    "- $ P(Cold) $\n",
    "- $ P(LungDisease) $\n",
    "- $ P(ShortnessBreath) $\n",
    "- $ P(ChestPain) $\n",
    "- $ P(Fever) $\n",
    "- $ P(Cough) $\n",
    "- $ P(LungDisease|Smokes=True) $\n",
    "- $ P(LungDisease|Cough=True) $\n",
    "- $ P(ShortnessBreath|Smokes=True) $\n",
    "- $ P(ChestPain|Fever=True) $"
   ]
  },
  {
   "cell_type": "code",
   "execution_count": 28,
   "metadata": {},
   "outputs": [],
   "source": [
    "from pgmpy.inference import VariableElimination\n",
    "infer = VariableElimination(model)"
   ]
  },
  {
   "cell_type": "code",
   "execution_count": 29,
   "metadata": {},
   "outputs": [
    {
     "name": "stderr",
     "output_type": "stream",
     "text": [
      "WARNING:pgmpy:BayesianModel has been renamed to BayesianNetwork. Please use BayesianNetwork class, BayesianModel will be removed in future.\n",
      "WARNING:pgmpy:BayesianModel has been renamed to BayesianNetwork. Please use BayesianNetwork class, BayesianModel will be removed in future.\n"
     ]
    },
    {
     "name": "stdout",
     "output_type": "stream",
     "text": [
      "+-----------+---------------+\n",
      "| Smokes    |   phi(Smokes) |\n",
      "+===========+===============+\n",
      "| Smokes(T) |        0.2000 |\n",
      "+-----------+---------------+\n",
      "| Smokes(F) |        0.8000 |\n",
      "+-----------+---------------+\n"
     ]
    }
   ],
   "source": [
    "dist = infer.query(['Smokes'])\n",
    "print(dist)"
   ]
  },
  {
   "cell_type": "code",
   "execution_count": 30,
   "metadata": {},
   "outputs": [
    {
     "name": "stderr",
     "output_type": "stream",
     "text": [
      "WARNING:pgmpy:BayesianModel has been renamed to BayesianNetwork. Please use BayesianNetwork class, BayesianModel will be removed in future.\n",
      "WARNING:pgmpy:BayesianModel has been renamed to BayesianNetwork. Please use BayesianNetwork class, BayesianModel will be removed in future.\n"
     ]
    },
    {
     "name": "stdout",
     "output_type": "stream",
     "text": [
      "+---------+-------------+\n",
      "| Cold    |   phi(Cold) |\n",
      "+=========+=============+\n",
      "| Cold(T) |      0.0200 |\n",
      "+---------+-------------+\n",
      "| Cold(F) |      0.9800 |\n",
      "+---------+-------------+\n"
     ]
    }
   ],
   "source": [
    "dist = infer.query(['Cold'])\n",
    "print(dist)"
   ]
  },
  {
   "cell_type": "code",
   "execution_count": 31,
   "metadata": {},
   "outputs": [
    {
     "name": "stderr",
     "output_type": "stream",
     "text": [
      "WARNING:pgmpy:BayesianModel has been renamed to BayesianNetwork. Please use BayesianNetwork class, BayesianModel will be removed in future.\n",
      "WARNING:pgmpy:BayesianModel has been renamed to BayesianNetwork. Please use BayesianNetwork class, BayesianModel will be removed in future.\n"
     ]
    },
    {
     "name": "stdout",
     "output_type": "stream",
     "text": [
      "+----------------+--------------------+\n",
      "| LungDisease    |   phi(LungDisease) |\n",
      "+================+====================+\n",
      "| LungDisease(T) |             0.0210 |\n",
      "+----------------+--------------------+\n",
      "| LungDisease(F) |             0.9790 |\n",
      "+----------------+--------------------+\n"
     ]
    }
   ],
   "source": [
    "dist = infer.query(['LungDisease'])\n",
    "print(dist)"
   ]
  },
  {
   "cell_type": "code",
   "execution_count": 32,
   "metadata": {},
   "outputs": [
    {
     "name": "stderr",
     "output_type": "stream",
     "text": [
      "WARNING:pgmpy:BayesianModel has been renamed to BayesianNetwork. Please use BayesianNetwork class, BayesianModel will be removed in future.\n",
      "WARNING:pgmpy:BayesianModel has been renamed to BayesianNetwork. Please use BayesianNetwork class, BayesianModel will be removed in future.\n"
     ]
    },
    {
     "name": "stdout",
     "output_type": "stream",
     "text": [
      "+--------------------+------------------------+\n",
      "| ShortnessBreath    |   phi(ShortnessBreath) |\n",
      "+====================+========================+\n",
      "| ShortnessBreath(T) |                 0.0142 |\n",
      "+--------------------+------------------------+\n",
      "| ShortnessBreath(F) |                 0.9858 |\n",
      "+--------------------+------------------------+\n"
     ]
    }
   ],
   "source": [
    "dist = infer.query(['ShortnessBreath'])\n",
    "print(dist)"
   ]
  },
  {
   "cell_type": "code",
   "execution_count": 33,
   "metadata": {},
   "outputs": [
    {
     "name": "stderr",
     "output_type": "stream",
     "text": [
      "WARNING:pgmpy:BayesianModel has been renamed to BayesianNetwork. Please use BayesianNetwork class, BayesianModel will be removed in future.\n",
      "WARNING:pgmpy:BayesianModel has been renamed to BayesianNetwork. Please use BayesianNetwork class, BayesianModel will be removed in future.\n"
     ]
    },
    {
     "name": "stdout",
     "output_type": "stream",
     "text": [
      "+--------------+------------------+\n",
      "| ChestPain    |   phi(ChestPain) |\n",
      "+==============+==================+\n",
      "| ChestPain(T) |           0.0142 |\n",
      "+--------------+------------------+\n",
      "| ChestPain(F) |           0.9858 |\n",
      "+--------------+------------------+\n"
     ]
    }
   ],
   "source": [
    "dist = infer.query(['ChestPain'])\n",
    "print(dist)"
   ]
  },
  {
   "cell_type": "code",
   "execution_count": 34,
   "metadata": {},
   "outputs": [
    {
     "name": "stderr",
     "output_type": "stream",
     "text": [
      "WARNING:pgmpy:BayesianModel has been renamed to BayesianNetwork. Please use BayesianNetwork class, BayesianModel will be removed in future.\n",
      "WARNING:pgmpy:BayesianModel has been renamed to BayesianNetwork. Please use BayesianNetwork class, BayesianModel will be removed in future.\n"
     ]
    },
    {
     "name": "stdout",
     "output_type": "stream",
     "text": [
      "+----------+--------------+\n",
      "| Fever    |   phi(Fever) |\n",
      "+==========+==============+\n",
      "| Fever(T) |       0.0159 |\n",
      "+----------+--------------+\n",
      "| Fever(F) |       0.9841 |\n",
      "+----------+--------------+\n"
     ]
    }
   ],
   "source": [
    "dist = infer.query(['Fever'])\n",
    "print(dist)"
   ]
  },
  {
   "cell_type": "code",
   "execution_count": 35,
   "metadata": {},
   "outputs": [
    {
     "name": "stderr",
     "output_type": "stream",
     "text": [
      "WARNING:pgmpy:BayesianModel has been renamed to BayesianNetwork. Please use BayesianNetwork class, BayesianModel will be removed in future.\n",
      "WARNING:pgmpy:BayesianModel has been renamed to BayesianNetwork. Please use BayesianNetwork class, BayesianModel will be removed in future.\n"
     ]
    },
    {
     "name": "stdout",
     "output_type": "stream",
     "text": [
      "+----------+--------------+\n",
      "| Cough    |   phi(Cough) |\n",
      "+==========+==============+\n",
      "| Cough(T) |       0.0302 |\n",
      "+----------+--------------+\n",
      "| Cough(F) |       0.9698 |\n",
      "+----------+--------------+\n"
     ]
    }
   ],
   "source": [
    "dist = infer.query(['Cough'])\n",
    "print(dist)"
   ]
  },
  {
   "cell_type": "code",
   "execution_count": 36,
   "metadata": {},
   "outputs": [
    {
     "name": "stderr",
     "output_type": "stream",
     "text": [
      "WARNING:pgmpy:BayesianModel has been renamed to BayesianNetwork. Please use BayesianNetwork class, BayesianModel will be removed in future.\n",
      "WARNING:pgmpy:BayesianModel has been renamed to BayesianNetwork. Please use BayesianNetwork class, BayesianModel will be removed in future.\n"
     ]
    },
    {
     "name": "stdout",
     "output_type": "stream",
     "text": [
      "+----------------+--------------------+\n",
      "| LungDisease    |   phi(LungDisease) |\n",
      "+================+====================+\n",
      "| LungDisease(T) |             0.1009 |\n",
      "+----------------+--------------------+\n",
      "| LungDisease(F) |             0.8991 |\n",
      "+----------------+--------------------+\n"
     ]
    }
   ],
   "source": [
    "dist = infer.query(['LungDisease'], evidence={'Smokes':'T'})\n",
    "print(dist)"
   ]
  },
  {
   "cell_type": "code",
   "execution_count": 37,
   "metadata": {},
   "outputs": [
    {
     "name": "stderr",
     "output_type": "stream",
     "text": [
      "WARNING:pgmpy:BayesianModel has been renamed to BayesianNetwork. Please use BayesianNetwork class, BayesianModel will be removed in future.\n",
      "WARNING:pgmpy:BayesianModel has been renamed to BayesianNetwork. Please use BayesianNetwork class, BayesianModel will be removed in future.\n"
     ]
    },
    {
     "name": "stdout",
     "output_type": "stream",
     "text": [
      "+----------------+--------------------+\n",
      "| LungDisease    |   phi(LungDisease) |\n",
      "+================+====================+\n",
      "| LungDisease(T) |             0.3545 |\n",
      "+----------------+--------------------+\n",
      "| LungDisease(F) |             0.6455 |\n",
      "+----------------+--------------------+\n"
     ]
    }
   ],
   "source": [
    "dist = infer.query(['LungDisease'], evidence={'Cough':'T'})\n",
    "print(dist)"
   ]
  },
  {
   "cell_type": "code",
   "execution_count": 38,
   "metadata": {},
   "outputs": [
    {
     "name": "stderr",
     "output_type": "stream",
     "text": [
      "WARNING:pgmpy:BayesianModel has been renamed to BayesianNetwork. Please use BayesianNetwork class, BayesianModel will be removed in future.\n",
      "WARNING:pgmpy:BayesianModel has been renamed to BayesianNetwork. Please use BayesianNetwork class, BayesianModel will be removed in future.\n"
     ]
    },
    {
     "name": "stdout",
     "output_type": "stream",
     "text": [
      "+--------------------+------------------------+\n",
      "| ShortnessBreath    |   phi(ShortnessBreath) |\n",
      "+====================+========================+\n",
      "| ShortnessBreath(T) |                 0.0300 |\n",
      "+--------------------+------------------------+\n",
      "| ShortnessBreath(F) |                 0.9700 |\n",
      "+--------------------+------------------------+\n"
     ]
    }
   ],
   "source": [
    "dist = infer.query(['ShortnessBreath'], evidence={'Smokes':'T'})\n",
    "print(dist)"
   ]
  },
  {
   "cell_type": "code",
   "execution_count": 39,
   "metadata": {},
   "outputs": [
    {
     "name": "stderr",
     "output_type": "stream",
     "text": [
      "WARNING:pgmpy:BayesianModel has been renamed to BayesianNetwork. Please use BayesianNetwork class, BayesianModel will be removed in future.\n",
      "WARNING:pgmpy:BayesianModel has been renamed to BayesianNetwork. Please use BayesianNetwork class, BayesianModel will be removed in future.\n"
     ]
    },
    {
     "name": "stdout",
     "output_type": "stream",
     "text": [
      "+--------------+------------------+\n",
      "| ChestPain    |   phi(ChestPain) |\n",
      "+==============+==================+\n",
      "| ChestPain(T) |           0.0142 |\n",
      "+--------------+------------------+\n",
      "| ChestPain(F) |           0.9858 |\n",
      "+--------------+------------------+\n"
     ]
    }
   ],
   "source": [
    "dist = infer.query(['ChestPain'], evidence={'Fever':'T'})\n",
    "print(dist)"
   ]
  },
  {
   "cell_type": "markdown",
   "metadata": {},
   "source": [
    "## Q8 [15] \n",
    "**Are the following  true? If not, can you make them independent by including info on the parent?**\n",
    "1. Cough is independent from Fever. (Having knowledge about Fever does not change the probability of Cough) \n",
    "2. Fever is independent from Smokes. \n",
    "3. ChestPain is independent from Smokes.\n",
    "4. ChestPain is independent from Smokes given LungDisease.\n"
   ]
  },
  {
   "cell_type": "markdown",
   "metadata": {},
   "source": [
    "##### 1. Cough is independent from Fever"
   ]
  },
  {
   "cell_type": "code",
   "execution_count": 40,
   "metadata": {},
   "outputs": [
    {
     "name": "stderr",
     "output_type": "stream",
     "text": [
      "WARNING:pgmpy:BayesianModel has been renamed to BayesianNetwork. Please use BayesianNetwork class, BayesianModel will be removed in future.\n",
      "WARNING:pgmpy:BayesianModel has been renamed to BayesianNetwork. Please use BayesianNetwork class, BayesianModel will be removed in future.\n",
      "WARNING:pgmpy:BayesianModel has been renamed to BayesianNetwork. Please use BayesianNetwork class, BayesianModel will be removed in future.\n",
      "WARNING:pgmpy:BayesianModel has been renamed to BayesianNetwork. Please use BayesianNetwork class, BayesianModel will be removed in future.\n",
      "WARNING:pgmpy:BayesianModel has been renamed to BayesianNetwork. Please use BayesianNetwork class, BayesianModel will be removed in future.\n",
      "WARNING:pgmpy:BayesianModel has been renamed to BayesianNetwork. Please use BayesianNetwork class, BayesianModel will be removed in future.\n"
     ]
    },
    {
     "name": "stdout",
     "output_type": "stream",
     "text": [
      "+----------+--------------+\n",
      "| Cough    |   phi(Cough) |\n",
      "+==========+==============+\n",
      "| Cough(T) |       0.0302 |\n",
      "+----------+--------------+\n",
      "| Cough(F) |       0.9698 |\n",
      "+----------+--------------+\n",
      "+----------+--------------+\n",
      "| Cough    |   phi(Cough) |\n",
      "+==========+==============+\n",
      "| Cough(T) |       0.2091 |\n",
      "+----------+--------------+\n",
      "| Cough(F) |       0.7909 |\n",
      "+----------+--------------+\n",
      "+----------+--------------+\n",
      "| Cough    |   phi(Cough) |\n",
      "+==========+==============+\n",
      "| Cough(T) |       0.0273 |\n",
      "+----------+--------------+\n",
      "| Cough(F) |       0.9727 |\n",
      "+----------+--------------+\n"
     ]
    }
   ],
   "source": [
    "dist = infer.query(['Cough'])\n",
    "print(dist)\n",
    "\n",
    "dist = infer.query(['Cough'], evidence={'Fever':'T'})\n",
    "print(dist)\n",
    "\n",
    "dist = infer.query(['Cough'], evidence={'Fever':'F'})\n",
    "print(dist)"
   ]
  },
  {
   "cell_type": "markdown",
   "metadata": {},
   "source": [
    "- Fever does affect Cough -> Not independent\n",
    "- However, given the parent of both Fever and Cough (Cold), they should be independent."
   ]
  },
  {
   "cell_type": "code",
   "execution_count": 41,
   "metadata": {},
   "outputs": [
    {
     "name": "stderr",
     "output_type": "stream",
     "text": [
      "WARNING:pgmpy:BayesianModel has been renamed to BayesianNetwork. Please use BayesianNetwork class, BayesianModel will be removed in future.\n",
      "WARNING:pgmpy:BayesianModel has been renamed to BayesianNetwork. Please use BayesianNetwork class, BayesianModel will be removed in future.\n",
      "WARNING:pgmpy:BayesianModel has been renamed to BayesianNetwork. Please use BayesianNetwork class, BayesianModel will be removed in future.\n",
      "WARNING:pgmpy:BayesianModel has been renamed to BayesianNetwork. Please use BayesianNetwork class, BayesianModel will be removed in future.\n",
      "WARNING:pgmpy:BayesianModel has been renamed to BayesianNetwork. Please use BayesianNetwork class, BayesianModel will be removed in future.\n",
      "WARNING:pgmpy:BayesianModel has been renamed to BayesianNetwork. Please use BayesianNetwork class, BayesianModel will be removed in future.\n",
      "WARNING:pgmpy:BayesianModel has been renamed to BayesianNetwork. Please use BayesianNetwork class, BayesianModel will be removed in future.\n",
      "WARNING:pgmpy:BayesianModel has been renamed to BayesianNetwork. Please use BayesianNetwork class, BayesianModel will be removed in future.\n"
     ]
    },
    {
     "name": "stdout",
     "output_type": "stream",
     "text": [
      "+----------+--------------+\n",
      "| Cough    |   phi(Cough) |\n",
      "+==========+==============+\n",
      "| Cough(T) |       0.0204 |\n",
      "+----------+--------------+\n",
      "| Cough(F) |       0.9796 |\n",
      "+----------+--------------+\n",
      "+----------+--------------+\n",
      "| Cough    |   phi(Cough) |\n",
      "+==========+==============+\n",
      "| Cough(T) |       0.0204 |\n",
      "+----------+--------------+\n",
      "| Cough(F) |       0.9796 |\n",
      "+----------+--------------+\n",
      "+----------+--------------+\n",
      "| Cough    |   phi(Cough) |\n",
      "+==========+==============+\n",
      "| Cough(T) |       0.5102 |\n",
      "+----------+--------------+\n",
      "| Cough(F) |       0.4898 |\n",
      "+----------+--------------+\n",
      "+----------+--------------+\n",
      "| Cough    |   phi(Cough) |\n",
      "+==========+==============+\n",
      "| Cough(T) |       0.5102 |\n",
      "+----------+--------------+\n",
      "| Cough(F) |       0.4898 |\n",
      "+----------+--------------+\n"
     ]
    }
   ],
   "source": [
    "dist = infer.query(['Cough'], evidence={'Cold':'F', 'Fever':'T'})\n",
    "print(dist)\n",
    "\n",
    "dist = infer.query(['Cough'], evidence={'Cold':'F', 'Fever':'F'})\n",
    "print(dist)\n",
    "\n",
    "dist = infer.query(['Cough'], evidence={'Cold':'T', 'Fever':'T'})\n",
    "print(dist)\n",
    "\n",
    "dist = infer.query(['Cough'], evidence={'Cold':'T', 'Fever':'F'})\n",
    "print(dist)"
   ]
  },
  {
   "cell_type": "markdown",
   "metadata": {},
   "source": [
    "##### 2. Fever is independent from Smokes. "
   ]
  },
  {
   "cell_type": "code",
   "execution_count": 42,
   "metadata": {},
   "outputs": [
    {
     "name": "stderr",
     "output_type": "stream",
     "text": [
      "WARNING:pgmpy:BayesianModel has been renamed to BayesianNetwork. Please use BayesianNetwork class, BayesianModel will be removed in future.\n",
      "WARNING:pgmpy:BayesianModel has been renamed to BayesianNetwork. Please use BayesianNetwork class, BayesianModel will be removed in future.\n",
      "WARNING:pgmpy:BayesianModel has been renamed to BayesianNetwork. Please use BayesianNetwork class, BayesianModel will be removed in future.\n",
      "WARNING:pgmpy:BayesianModel has been renamed to BayesianNetwork. Please use BayesianNetwork class, BayesianModel will be removed in future.\n",
      "WARNING:pgmpy:BayesianModel has been renamed to BayesianNetwork. Please use BayesianNetwork class, BayesianModel will be removed in future.\n",
      "WARNING:pgmpy:BayesianModel has been renamed to BayesianNetwork. Please use BayesianNetwork class, BayesianModel will be removed in future.\n"
     ]
    },
    {
     "name": "stdout",
     "output_type": "stream",
     "text": [
      "+----------+--------------+\n",
      "| Fever    |   phi(Fever) |\n",
      "+==========+==============+\n",
      "| Fever(T) |       0.0159 |\n",
      "+----------+--------------+\n",
      "| Fever(F) |       0.9841 |\n",
      "+----------+--------------+\n",
      "+----------+--------------+\n",
      "| Fever    |   phi(Fever) |\n",
      "+==========+==============+\n",
      "| Fever(T) |       0.0159 |\n",
      "+----------+--------------+\n",
      "| Fever(F) |       0.9841 |\n",
      "+----------+--------------+\n",
      "+----------+--------------+\n",
      "| Fever    |   phi(Fever) |\n",
      "+==========+==============+\n",
      "| Fever(T) |       0.0159 |\n",
      "+----------+--------------+\n",
      "| Fever(F) |       0.9841 |\n",
      "+----------+--------------+\n"
     ]
    }
   ],
   "source": [
    "# Your code\n",
    "dist = infer.query(['Fever'])\n",
    "print(dist)\n",
    "\n",
    "dist = infer.query(['Fever'], evidence={'Smokes' :'T'})\n",
    "print(dist)\n",
    "\n",
    "dist = infer.query(['Fever'], evidence={'Smokes' :'F'})\n",
    "print(dist)"
   ]
  },
  {
   "cell_type": "markdown",
   "metadata": {},
   "source": [
    "Fever is independent of Smokes"
   ]
  },
  {
   "cell_type": "markdown",
   "metadata": {},
   "source": [
    "##### 3. ChestPain is independent from Smokes."
   ]
  },
  {
   "cell_type": "code",
   "execution_count": 43,
   "metadata": {},
   "outputs": [
    {
     "name": "stderr",
     "output_type": "stream",
     "text": [
      "WARNING:pgmpy:BayesianModel has been renamed to BayesianNetwork. Please use BayesianNetwork class, BayesianModel will be removed in future.\n",
      "WARNING:pgmpy:BayesianModel has been renamed to BayesianNetwork. Please use BayesianNetwork class, BayesianModel will be removed in future.\n",
      "WARNING:pgmpy:BayesianModel has been renamed to BayesianNetwork. Please use BayesianNetwork class, BayesianModel will be removed in future.\n",
      "WARNING:pgmpy:BayesianModel has been renamed to BayesianNetwork. Please use BayesianNetwork class, BayesianModel will be removed in future.\n",
      "WARNING:pgmpy:BayesianModel has been renamed to BayesianNetwork. Please use BayesianNetwork class, BayesianModel will be removed in future.\n",
      "WARNING:pgmpy:BayesianModel has been renamed to BayesianNetwork. Please use BayesianNetwork class, BayesianModel will be removed in future.\n"
     ]
    },
    {
     "name": "stdout",
     "output_type": "stream",
     "text": [
      "+--------------+------------------+\n",
      "| ChestPain    |   phi(ChestPain) |\n",
      "+==============+==================+\n",
      "| ChestPain(T) |           0.0142 |\n",
      "+--------------+------------------+\n",
      "| ChestPain(F) |           0.9858 |\n",
      "+--------------+------------------+\n",
      "+--------------+------------------+\n",
      "| ChestPain    |   phi(ChestPain) |\n",
      "+==============+==================+\n",
      "| ChestPain(T) |           0.0300 |\n",
      "+--------------+------------------+\n",
      "| ChestPain(F) |           0.9700 |\n",
      "+--------------+------------------+\n",
      "+--------------+------------------+\n",
      "| ChestPain    |   phi(ChestPain) |\n",
      "+==============+==================+\n",
      "| ChestPain(T) |           0.0102 |\n",
      "+--------------+------------------+\n",
      "| ChestPain(F) |           0.9898 |\n",
      "+--------------+------------------+\n"
     ]
    }
   ],
   "source": [
    "dist = infer.query(['ChestPain'])\n",
    "print(dist)\n",
    "\n",
    "dist = infer.query(['ChestPain'], evidence={'Smokes' :'T'})\n",
    "print(dist)\n",
    "\n",
    "dist = infer.query(['ChestPain'], evidence={'Smokes' :'F'})\n",
    "print(dist)"
   ]
  },
  {
   "cell_type": "markdown",
   "metadata": {},
   "source": [
    "Chestpain is not independent of Smokes"
   ]
  },
  {
   "cell_type": "code",
   "execution_count": 56,
   "metadata": {},
   "outputs": [
    {
     "name": "stderr",
     "output_type": "stream",
     "text": [
      "WARNING:pgmpy:BayesianModel has been renamed to BayesianNetwork. Please use BayesianNetwork class, BayesianModel will be removed in future.\n",
      "WARNING:pgmpy:BayesianModel has been renamed to BayesianNetwork. Please use BayesianNetwork class, BayesianModel will be removed in future.\n",
      "WARNING:pgmpy:BayesianModel has been renamed to BayesianNetwork. Please use BayesianNetwork class, BayesianModel will be removed in future.\n",
      "WARNING:pgmpy:BayesianModel has been renamed to BayesianNetwork. Please use BayesianNetwork class, BayesianModel will be removed in future.\n",
      "WARNING:pgmpy:BayesianModel has been renamed to BayesianNetwork. Please use BayesianNetwork class, BayesianModel will be removed in future.\n",
      "WARNING:pgmpy:BayesianModel has been renamed to BayesianNetwork. Please use BayesianNetwork class, BayesianModel will be removed in future.\n",
      "WARNING:pgmpy:BayesianModel has been renamed to BayesianNetwork. Please use BayesianNetwork class, BayesianModel will be removed in future.\n",
      "WARNING:pgmpy:BayesianModel has been renamed to BayesianNetwork. Please use BayesianNetwork class, BayesianModel will be removed in future.\n"
     ]
    },
    {
     "name": "stdout",
     "output_type": "stream",
     "text": [
      "+--------------+------------------+\n",
      "| ChestPain    |   phi(ChestPain) |\n",
      "+==============+==================+\n",
      "| ChestPain(T) |           0.2080 |\n",
      "+--------------+------------------+\n",
      "| ChestPain(F) |           0.7920 |\n",
      "+--------------+------------------+\n",
      "+--------------+------------------+\n",
      "| ChestPain    |   phi(ChestPain) |\n",
      "+==============+==================+\n",
      "| ChestPain(T) |           0.0100 |\n",
      "+--------------+------------------+\n",
      "| ChestPain(F) |           0.9900 |\n",
      "+--------------+------------------+\n",
      "+--------------+------------------+\n",
      "| ChestPain    |   phi(ChestPain) |\n",
      "+==============+==================+\n",
      "| ChestPain(T) |           0.2080 |\n",
      "+--------------+------------------+\n",
      "| ChestPain(F) |           0.7920 |\n",
      "+--------------+------------------+\n",
      "+--------------+------------------+\n",
      "| ChestPain    |   phi(ChestPain) |\n",
      "+==============+==================+\n",
      "| ChestPain(T) |           0.0100 |\n",
      "+--------------+------------------+\n",
      "| ChestPain(F) |           0.9900 |\n",
      "+--------------+------------------+\n"
     ]
    }
   ],
   "source": [
    "dist = infer.query(['ChestPain'], evidence={'Smokes':'F', 'LungDisease':'T'})\n",
    "print(dist)\n",
    "\n",
    "dist = infer.query(['ChestPain'], evidence={'Smokes':'F', 'LungDisease':'F'})\n",
    "print(dist)\n",
    "\n",
    "dist = infer.query(['ChestPain'], evidence={'Smokes':'T', 'LungDisease':'T'})\n",
    "print(dist)\n",
    "\n",
    "dist = infer.query(['ChestPain'], evidence={'Smokes':'T', 'LungDisease':'F'})\n",
    "print(dist)"
   ]
  },
  {
   "cell_type": "markdown",
   "metadata": {},
   "source": [
    "##### 4. ChestPain is independent from Smokes given LungDisease."
   ]
  },
  {
   "cell_type": "code",
   "execution_count": 44,
   "metadata": {},
   "outputs": [
    {
     "name": "stderr",
     "output_type": "stream",
     "text": [
      "WARNING:pgmpy:BayesianModel has been renamed to BayesianNetwork. Please use BayesianNetwork class, BayesianModel will be removed in future.\n",
      "WARNING:pgmpy:BayesianModel has been renamed to BayesianNetwork. Please use BayesianNetwork class, BayesianModel will be removed in future.\n",
      "WARNING:pgmpy:BayesianModel has been renamed to BayesianNetwork. Please use BayesianNetwork class, BayesianModel will be removed in future.\n",
      "WARNING:pgmpy:BayesianModel has been renamed to BayesianNetwork. Please use BayesianNetwork class, BayesianModel will be removed in future.\n",
      "WARNING:pgmpy:BayesianModel has been renamed to BayesianNetwork. Please use BayesianNetwork class, BayesianModel will be removed in future.\n",
      "WARNING:pgmpy:BayesianModel has been renamed to BayesianNetwork. Please use BayesianNetwork class, BayesianModel will be removed in future.\n"
     ]
    },
    {
     "name": "stdout",
     "output_type": "stream",
     "text": [
      "+--------------+----------------+------------------------------+\n",
      "| ChestPain    | LungDisease    |   phi(ChestPain,LungDisease) |\n",
      "+==============+================+==============================+\n",
      "| ChestPain(T) | LungDisease(T) |                       0.0044 |\n",
      "+--------------+----------------+------------------------------+\n",
      "| ChestPain(T) | LungDisease(F) |                       0.0098 |\n",
      "+--------------+----------------+------------------------------+\n",
      "| ChestPain(F) | LungDisease(T) |                       0.0166 |\n",
      "+--------------+----------------+------------------------------+\n",
      "| ChestPain(F) | LungDisease(F) |                       0.9692 |\n",
      "+--------------+----------------+------------------------------+\n",
      "+--------------+----------------+------------------------------+\n",
      "| ChestPain    | LungDisease    |   phi(ChestPain,LungDisease) |\n",
      "+==============+================+==============================+\n",
      "| ChestPain(T) | LungDisease(T) |                       0.0210 |\n",
      "+--------------+----------------+------------------------------+\n",
      "| ChestPain(T) | LungDisease(F) |                       0.0090 |\n",
      "+--------------+----------------+------------------------------+\n",
      "| ChestPain(F) | LungDisease(T) |                       0.0799 |\n",
      "+--------------+----------------+------------------------------+\n",
      "| ChestPain(F) | LungDisease(F) |                       0.8901 |\n",
      "+--------------+----------------+------------------------------+\n",
      "+--------------+----------------+------------------------------+\n",
      "| ChestPain    | LungDisease    |   phi(ChestPain,LungDisease) |\n",
      "+==============+================+==============================+\n",
      "| ChestPain(T) | LungDisease(T) |                       0.0002 |\n",
      "+--------------+----------------+------------------------------+\n",
      "| ChestPain(T) | LungDisease(F) |                       0.0100 |\n",
      "+--------------+----------------+------------------------------+\n",
      "| ChestPain(F) | LungDisease(T) |                       0.0008 |\n",
      "+--------------+----------------+------------------------------+\n",
      "| ChestPain(F) | LungDisease(F) |                       0.9890 |\n",
      "+--------------+----------------+------------------------------+\n"
     ]
    }
   ],
   "source": [
    "dist = infer.query(['ChestPain', 'LungDisease'])\n",
    "print(dist)\n",
    "\n",
    "dist = infer.query(['ChestPain', 'LungDisease'], evidence={'Smokes' :'T'})\n",
    "print(dist)\n",
    "\n",
    "dist = infer.query(['ChestPain', 'LungDisease'], evidence={'Smokes' :'F'})\n",
    "print(dist)"
   ]
  },
  {
   "cell_type": "markdown",
   "metadata": {},
   "source": [
    "Chestpain is not independent of Smokes given LungDisease"
   ]
  },
  {
   "cell_type": "code",
   "execution_count": 57,
   "metadata": {},
   "outputs": [
    {
     "name": "stderr",
     "output_type": "stream",
     "text": [
      "WARNING:pgmpy:BayesianModel has been renamed to BayesianNetwork. Please use BayesianNetwork class, BayesianModel will be removed in future.\n",
      "WARNING:pgmpy:BayesianModel has been renamed to BayesianNetwork. Please use BayesianNetwork class, BayesianModel will be removed in future.\n",
      "WARNING:pgmpy:BayesianModel has been renamed to BayesianNetwork. Please use BayesianNetwork class, BayesianModel will be removed in future.\n",
      "WARNING:pgmpy:BayesianModel has been renamed to BayesianNetwork. Please use BayesianNetwork class, BayesianModel will be removed in future.\n",
      "WARNING:pgmpy:BayesianModel has been renamed to BayesianNetwork. Please use BayesianNetwork class, BayesianModel will be removed in future.\n",
      "WARNING:pgmpy:BayesianModel has been renamed to BayesianNetwork. Please use BayesianNetwork class, BayesianModel will be removed in future.\n",
      "WARNING:pgmpy:BayesianModel has been renamed to BayesianNetwork. Please use BayesianNetwork class, BayesianModel will be removed in future.\n",
      "WARNING:pgmpy:BayesianModel has been renamed to BayesianNetwork. Please use BayesianNetwork class, BayesianModel will be removed in future.\n"
     ]
    },
    {
     "name": "stdout",
     "output_type": "stream",
     "text": [
      "+--------------+----------------+------------------------------+\n",
      "| ChestPain    | LungDisease    |   phi(ChestPain,LungDisease) |\n",
      "+==============+================+==============================+\n",
      "| ChestPain(T) | LungDisease(T) |                       0.0002 |\n",
      "+--------------+----------------+------------------------------+\n",
      "| ChestPain(T) | LungDisease(F) |                       0.0100 |\n",
      "+--------------+----------------+------------------------------+\n",
      "| ChestPain(F) | LungDisease(T) |                       0.0008 |\n",
      "+--------------+----------------+------------------------------+\n",
      "| ChestPain(F) | LungDisease(F) |                       0.9890 |\n",
      "+--------------+----------------+------------------------------+\n",
      "+--------------+----------------+------------------------------+\n",
      "| ChestPain    | LungDisease    |   phi(ChestPain,LungDisease) |\n",
      "+==============+================+==============================+\n",
      "| ChestPain(T) | LungDisease(T) |                       0.0002 |\n",
      "+--------------+----------------+------------------------------+\n",
      "| ChestPain(T) | LungDisease(F) |                       0.0100 |\n",
      "+--------------+----------------+------------------------------+\n",
      "| ChestPain(F) | LungDisease(T) |                       0.0008 |\n",
      "+--------------+----------------+------------------------------+\n",
      "| ChestPain(F) | LungDisease(F) |                       0.9890 |\n",
      "+--------------+----------------+------------------------------+\n",
      "+--------------+----------------+------------------------------+\n",
      "| ChestPain    | LungDisease    |   phi(ChestPain,LungDisease) |\n",
      "+==============+================+==============================+\n",
      "| ChestPain(T) | LungDisease(T) |                       0.0210 |\n",
      "+--------------+----------------+------------------------------+\n",
      "| ChestPain(T) | LungDisease(F) |                       0.0090 |\n",
      "+--------------+----------------+------------------------------+\n",
      "| ChestPain(F) | LungDisease(T) |                       0.0799 |\n",
      "+--------------+----------------+------------------------------+\n",
      "| ChestPain(F) | LungDisease(F) |                       0.8901 |\n",
      "+--------------+----------------+------------------------------+\n",
      "+--------------+----------------+------------------------------+\n",
      "| ChestPain    | LungDisease    |   phi(ChestPain,LungDisease) |\n",
      "+==============+================+==============================+\n",
      "| ChestPain(T) | LungDisease(T) |                       0.0210 |\n",
      "+--------------+----------------+------------------------------+\n",
      "| ChestPain(T) | LungDisease(F) |                       0.0090 |\n",
      "+--------------+----------------+------------------------------+\n",
      "| ChestPain(F) | LungDisease(T) |                       0.0799 |\n",
      "+--------------+----------------+------------------------------+\n",
      "| ChestPain(F) | LungDisease(F) |                       0.8901 |\n",
      "+--------------+----------------+------------------------------+\n"
     ]
    }
   ],
   "source": [
    "dist = infer.query(['ChestPain', 'LungDisease'], evidence={'Smokes':'F'})\n",
    "print(dist)\n",
    "\n",
    "dist = infer.query(['ChestPain', 'LungDisease'], evidence={'Smokes':'F'})\n",
    "print(dist)\n",
    "\n",
    "dist = infer.query(['ChestPain', 'LungDisease'], evidence={'Smokes':'T'})\n",
    "print(dist)\n",
    "\n",
    "dist = infer.query(['ChestPain', 'LungDisease'], evidence={'Smokes':'T'})\n",
    "print(dist)"
   ]
  },
  {
   "cell_type": "markdown",
   "metadata": {},
   "source": [
    "## Q9 [20]\n",
    "1. Does having the knowledge that the person is coughing increase the probability of lung disease?\n",
    "2. Does having the knowledge that the person is coughing increase the probability that the person has Cold?\n",
    "3. Does having the knowledge that the person is coughing increase the probability that there is Fever?\n",
    "4. Does having the knowledge that the person is coughing increase the probability that there is Fever, given the person has Cold?\n",
    "5. Does having the knowledge that the person has Fever increase the probability that there is Lung Disease?\n"
   ]
  },
  {
   "cell_type": "markdown",
   "metadata": {},
   "source": [
    "##### 1. Does having the knowledge that the person is coughing increase the probability of lung disease? [5]"
   ]
  },
  {
   "cell_type": "code",
   "execution_count": 45,
   "metadata": {},
   "outputs": [
    {
     "name": "stderr",
     "output_type": "stream",
     "text": [
      "WARNING:pgmpy:BayesianModel has been renamed to BayesianNetwork. Please use BayesianNetwork class, BayesianModel will be removed in future.\n",
      "WARNING:pgmpy:BayesianModel has been renamed to BayesianNetwork. Please use BayesianNetwork class, BayesianModel will be removed in future.\n",
      "WARNING:pgmpy:BayesianModel has been renamed to BayesianNetwork. Please use BayesianNetwork class, BayesianModel will be removed in future.\n",
      "WARNING:pgmpy:BayesianModel has been renamed to BayesianNetwork. Please use BayesianNetwork class, BayesianModel will be removed in future.\n"
     ]
    },
    {
     "name": "stdout",
     "output_type": "stream",
     "text": [
      "+----------------+--------------------+\n",
      "| LungDisease    |   phi(LungDisease) |\n",
      "+================+====================+\n",
      "| LungDisease(T) |             0.0210 |\n",
      "+----------------+--------------------+\n",
      "| LungDisease(F) |             0.9790 |\n",
      "+----------------+--------------------+\n",
      "+----------------+--------------------+\n",
      "| LungDisease    |   phi(LungDisease) |\n",
      "+================+====================+\n",
      "| LungDisease(T) |             0.3545 |\n",
      "+----------------+--------------------+\n",
      "| LungDisease(F) |             0.6455 |\n",
      "+----------------+--------------------+\n"
     ]
    }
   ],
   "source": [
    "dist = infer.query(['LungDisease'])\n",
    "print(dist)\n",
    "dist = infer.query(['LungDisease'], evidence={'Cough': 'T'})\n",
    "print(dist)"
   ]
  },
  {
   "cell_type": "markdown",
   "metadata": {},
   "source": [
    "Having the knowledge that the person is coughing increases the probability of lung disease."
   ]
  },
  {
   "cell_type": "markdown",
   "metadata": {},
   "source": [
    "##### 2. Does having the knowledge that the person is coughing increase the probability that the person has Cold? [5]"
   ]
  },
  {
   "cell_type": "code",
   "execution_count": 46,
   "metadata": {},
   "outputs": [
    {
     "name": "stderr",
     "output_type": "stream",
     "text": [
      "WARNING:pgmpy:BayesianModel has been renamed to BayesianNetwork. Please use BayesianNetwork class, BayesianModel will be removed in future.\n",
      "WARNING:pgmpy:BayesianModel has been renamed to BayesianNetwork. Please use BayesianNetwork class, BayesianModel will be removed in future.\n",
      "WARNING:pgmpy:BayesianModel has been renamed to BayesianNetwork. Please use BayesianNetwork class, BayesianModel will be removed in future.\n",
      "WARNING:pgmpy:BayesianModel has been renamed to BayesianNetwork. Please use BayesianNetwork class, BayesianModel will be removed in future.\n"
     ]
    },
    {
     "name": "stdout",
     "output_type": "stream",
     "text": [
      "+---------+-------------+\n",
      "| Cold    |   phi(Cold) |\n",
      "+=========+=============+\n",
      "| Cold(T) |      0.0200 |\n",
      "+---------+-------------+\n",
      "| Cold(F) |      0.9800 |\n",
      "+---------+-------------+\n",
      "+---------+-------------+\n",
      "| Cold    |   phi(Cold) |\n",
      "+=========+=============+\n",
      "| Cold(T) |      0.3381 |\n",
      "+---------+-------------+\n",
      "| Cold(F) |      0.6619 |\n",
      "+---------+-------------+\n"
     ]
    }
   ],
   "source": [
    "# Your code\n",
    "dist = infer.query(['Cold'])\n",
    "print(dist)\n",
    "dist = infer.query(['Cold'], evidence={'Cough': 'T'})\n",
    "print(dist)"
   ]
  },
  {
   "cell_type": "markdown",
   "metadata": {},
   "source": [
    "Having the knowledge that the person is coughing **increases** the probability of cold."
   ]
  },
  {
   "cell_type": "markdown",
   "metadata": {},
   "source": [
    "##### 3. Does having the knowledge that the person is coughing increase the probability that there is Fever? [5]"
   ]
  },
  {
   "cell_type": "code",
   "execution_count": 47,
   "metadata": {
    "scrolled": true
   },
   "outputs": [
    {
     "name": "stderr",
     "output_type": "stream",
     "text": [
      "WARNING:pgmpy:BayesianModel has been renamed to BayesianNetwork. Please use BayesianNetwork class, BayesianModel will be removed in future.\n",
      "WARNING:pgmpy:BayesianModel has been renamed to BayesianNetwork. Please use BayesianNetwork class, BayesianModel will be removed in future.\n",
      "WARNING:pgmpy:BayesianModel has been renamed to BayesianNetwork. Please use BayesianNetwork class, BayesianModel will be removed in future.\n",
      "WARNING:pgmpy:BayesianModel has been renamed to BayesianNetwork. Please use BayesianNetwork class, BayesianModel will be removed in future.\n"
     ]
    },
    {
     "name": "stdout",
     "output_type": "stream",
     "text": [
      "+----------+--------------+\n",
      "| Fever    |   phi(Fever) |\n",
      "+==========+==============+\n",
      "| Fever(T) |       0.0159 |\n",
      "+----------+--------------+\n",
      "| Fever(F) |       0.9841 |\n",
      "+----------+--------------+\n",
      "+----------+--------------+\n",
      "| Fever    |   phi(Fever) |\n",
      "+==========+==============+\n",
      "| Fever(T) |       0.1104 |\n",
      "+----------+--------------+\n",
      "| Fever(F) |       0.8896 |\n",
      "+----------+--------------+\n"
     ]
    }
   ],
   "source": [
    "# Your code\n",
    "dist = infer.query(['Fever'])\n",
    "print(dist)\n",
    "dist = infer.query(['Fever'], evidence={'Cough': 'T'})\n",
    "print(dist)"
   ]
  },
  {
   "cell_type": "markdown",
   "metadata": {},
   "source": [
    "Having the knowledge that the person is coughing **increases** the probability of fever."
   ]
  },
  {
   "cell_type": "markdown",
   "metadata": {},
   "source": [
    "##### 4. Does having the knowledge that the person is coughing increase the probability that there is Fever, given the person has Cold?"
   ]
  },
  {
   "cell_type": "code",
   "execution_count": 48,
   "metadata": {},
   "outputs": [
    {
     "name": "stderr",
     "output_type": "stream",
     "text": [
      "WARNING:pgmpy:BayesianModel has been renamed to BayesianNetwork. Please use BayesianNetwork class, BayesianModel will be removed in future.\n",
      "WARNING:pgmpy:BayesianModel has been renamed to BayesianNetwork. Please use BayesianNetwork class, BayesianModel will be removed in future.\n",
      "WARNING:pgmpy:BayesianModel has been renamed to BayesianNetwork. Please use BayesianNetwork class, BayesianModel will be removed in future.\n",
      "WARNING:pgmpy:BayesianModel has been renamed to BayesianNetwork. Please use BayesianNetwork class, BayesianModel will be removed in future.\n"
     ]
    },
    {
     "name": "stdout",
     "output_type": "stream",
     "text": [
      "+----------+--------------+\n",
      "| Fever    |   phi(Fever) |\n",
      "+==========+==============+\n",
      "| Fever(T) |       0.0159 |\n",
      "+----------+--------------+\n",
      "| Fever(F) |       0.9841 |\n",
      "+----------+--------------+\n",
      "+----------+--------------+\n",
      "| Fever    |   phi(Fever) |\n",
      "+==========+==============+\n",
      "| Fever(T) |       0.3070 |\n",
      "+----------+--------------+\n",
      "| Fever(F) |       0.6930 |\n",
      "+----------+--------------+\n"
     ]
    }
   ],
   "source": [
    "# Your code\n",
    "dist = infer.query(['Fever'])\n",
    "print(dist)\n",
    "dist = infer.query(['Fever'], evidence={'Cold' : 'T', 'Cough':'T'})\n",
    "print(dist)"
   ]
  },
  {
   "cell_type": "markdown",
   "metadata": {},
   "source": [
    "Having the knowledge that the person is coughing **increases** the probability of fever, given the person has cold."
   ]
  },
  {
   "cell_type": "markdown",
   "metadata": {},
   "source": [
    "##### 5. Does having the knowledge that the person has Fever increase the probability that there is Lung Disease?"
   ]
  },
  {
   "cell_type": "code",
   "execution_count": 49,
   "metadata": {},
   "outputs": [
    {
     "name": "stderr",
     "output_type": "stream",
     "text": [
      "WARNING:pgmpy:BayesianModel has been renamed to BayesianNetwork. Please use BayesianNetwork class, BayesianModel will be removed in future.\n",
      "WARNING:pgmpy:BayesianModel has been renamed to BayesianNetwork. Please use BayesianNetwork class, BayesianModel will be removed in future.\n",
      "WARNING:pgmpy:BayesianModel has been renamed to BayesianNetwork. Please use BayesianNetwork class, BayesianModel will be removed in future.\n",
      "WARNING:pgmpy:BayesianModel has been renamed to BayesianNetwork. Please use BayesianNetwork class, BayesianModel will be removed in future.\n"
     ]
    },
    {
     "name": "stdout",
     "output_type": "stream",
     "text": [
      "+----------------+--------------------+\n",
      "| LungDisease    |   phi(LungDisease) |\n",
      "+================+====================+\n",
      "| LungDisease(T) |             0.0210 |\n",
      "+----------------+--------------------+\n",
      "| LungDisease(F) |             0.9790 |\n",
      "+----------------+--------------------+\n",
      "+----------------+--------------------+\n",
      "| LungDisease    |   phi(LungDisease) |\n",
      "+================+====================+\n",
      "| LungDisease(T) |             0.0210 |\n",
      "+----------------+--------------------+\n",
      "| LungDisease(F) |             0.9790 |\n",
      "+----------------+--------------------+\n"
     ]
    }
   ],
   "source": [
    "# Your code\n",
    "dist = infer.query(['LungDisease'])\n",
    "print(dist)\n",
    "dist = infer.query(['LungDisease'], evidence={'Fever':'T'})\n",
    "print(dist)"
   ]
  },
  {
   "cell_type": "markdown",
   "metadata": {},
   "source": [
    "Having the knowledge that the person has Fever **does not increase** the probability that there is Lung Disease"
   ]
  },
  {
   "cell_type": "markdown",
   "metadata": {},
   "source": [
    "## Q10 [5]\n",
    "1. What's the most probable state of Cough? \n",
    "2. What's the most probable state of Cough given Cold is True? \n",
    "3. What's the most probable state of Cough given Cold is True and Lung Disease is True?"
   ]
  },
  {
   "cell_type": "markdown",
   "metadata": {},
   "source": [
    "##### 1. What's the most probable state of Cough? "
   ]
  },
  {
   "cell_type": "code",
   "execution_count": 50,
   "metadata": {},
   "outputs": [
    {
     "name": "stderr",
     "output_type": "stream",
     "text": [
      "WARNING:pgmpy:BayesianModel has been renamed to BayesianNetwork. Please use BayesianNetwork class, BayesianModel will be removed in future.\n",
      "WARNING:pgmpy:BayesianModel has been renamed to BayesianNetwork. Please use BayesianNetwork class, BayesianModel will be removed in future.\n"
     ]
    },
    {
     "data": {
      "application/vnd.jupyter.widget-view+json": {
       "model_id": "fcbac791510a4450b953a6ccf86f0ff1",
       "version_major": 2,
       "version_minor": 0
      },
      "text/plain": [
       "  0%|          | 0/3 [00:00<?, ?it/s]"
      ]
     },
     "metadata": {},
     "output_type": "display_data"
    },
    {
     "data": {
      "application/vnd.jupyter.widget-view+json": {
       "model_id": "a065cec0242b45eb81dfeba12072d333",
       "version_major": 2,
       "version_minor": 0
      },
      "text/plain": [
       "  0%|          | 0/3 [00:00<?, ?it/s]"
      ]
     },
     "metadata": {},
     "output_type": "display_data"
    },
    {
     "data": {
      "text/plain": [
       "{'Cough': 'F'}"
      ]
     },
     "execution_count": 50,
     "metadata": {},
     "output_type": "execute_result"
    }
   ],
   "source": [
    "infer.map_query(['Cough'])"
   ]
  },
  {
   "cell_type": "markdown",
   "metadata": {},
   "source": [
    "The most probable state of Cough is False."
   ]
  },
  {
   "cell_type": "markdown",
   "metadata": {},
   "source": [
    "##### 2. What's the most probable state of Cough given Cold is True? "
   ]
  },
  {
   "cell_type": "code",
   "execution_count": 51,
   "metadata": {},
   "outputs": [
    {
     "name": "stderr",
     "output_type": "stream",
     "text": [
      "WARNING:pgmpy:BayesianModel has been renamed to BayesianNetwork. Please use BayesianNetwork class, BayesianModel will be removed in future.\n",
      "WARNING:pgmpy:BayesianModel has been renamed to BayesianNetwork. Please use BayesianNetwork class, BayesianModel will be removed in future.\n"
     ]
    },
    {
     "data": {
      "application/vnd.jupyter.widget-view+json": {
       "model_id": "25483b367ae348d4a5256bb055ae8ac5",
       "version_major": 2,
       "version_minor": 0
      },
      "text/plain": [
       "  0%|          | 0/2 [00:00<?, ?it/s]"
      ]
     },
     "metadata": {},
     "output_type": "display_data"
    },
    {
     "data": {
      "application/vnd.jupyter.widget-view+json": {
       "model_id": "484f18dd01d24363a54fbd0a5248a747",
       "version_major": 2,
       "version_minor": 0
      },
      "text/plain": [
       "  0%|          | 0/2 [00:00<?, ?it/s]"
      ]
     },
     "metadata": {},
     "output_type": "display_data"
    },
    {
     "data": {
      "text/plain": [
       "{'Cough': 'T'}"
      ]
     },
     "execution_count": 51,
     "metadata": {},
     "output_type": "execute_result"
    }
   ],
   "source": [
    "# Your code\n",
    "infer.map_query(['Cough'], evidence = {'Cold':'T'})"
   ]
  },
  {
   "cell_type": "markdown",
   "metadata": {},
   "source": [
    "The most probable state of Cough given Cold is True is **True**."
   ]
  },
  {
   "cell_type": "markdown",
   "metadata": {},
   "source": [
    "##### 3. What's the most probable state of Cough given Cold is True and Lung Disease is True?"
   ]
  },
  {
   "cell_type": "code",
   "execution_count": 55,
   "metadata": {},
   "outputs": [
    {
     "name": "stderr",
     "output_type": "stream",
     "text": [
      "WARNING:pgmpy:BayesianModel has been renamed to BayesianNetwork. Please use BayesianNetwork class, BayesianModel will be removed in future.\n",
      "WARNING:pgmpy:BayesianModel has been renamed to BayesianNetwork. Please use BayesianNetwork class, BayesianModel will be removed in future.\n"
     ]
    },
    {
     "data": {
      "application/vnd.jupyter.widget-view+json": {
       "model_id": "b4594d2aeecc485a98ebcea298ec732b",
       "version_major": 2,
       "version_minor": 0
      },
      "text/plain": [
       "0it [00:00, ?it/s]"
      ]
     },
     "metadata": {},
     "output_type": "display_data"
    },
    {
     "data": {
      "application/vnd.jupyter.widget-view+json": {
       "model_id": "1020518212ba4578963ab827b9413a15",
       "version_major": 2,
       "version_minor": 0
      },
      "text/plain": [
       "0it [00:00, ?it/s]"
      ]
     },
     "metadata": {},
     "output_type": "display_data"
    },
    {
     "data": {
      "text/plain": [
       "{'Cough': 'T'}"
      ]
     },
     "execution_count": 55,
     "metadata": {},
     "output_type": "execute_result"
    }
   ],
   "source": [
    "# Your code\n",
    "infer.map_query(['Cough'], evidence = {'Cold':'T', 'LungDisease':'T'})"
   ]
  },
  {
   "cell_type": "markdown",
   "metadata": {},
   "source": [
    "The most probable state of Cough given Cold is True and LungDisease is True is **True**."
   ]
  },
  {
   "cell_type": "markdown",
   "metadata": {},
   "source": [
    "# Well done!"
   ]
  }
 ],
 "metadata": {
  "kernelspec": {
   "display_name": "Python 3 (ipykernel)",
   "language": "python",
   "name": "python3"
  },
  "language_info": {
   "codemirror_mode": {
    "name": "ipython",
    "version": 3
   },
   "file_extension": ".py",
   "mimetype": "text/x-python",
   "name": "python",
   "nbconvert_exporter": "python",
   "pygments_lexer": "ipython3",
   "version": "3.9.12"
  },
  "toc": {
   "base_numbering": 1,
   "nav_menu": {},
   "number_sections": false,
   "sideBar": false,
   "skip_h1_title": false,
   "title_cell": "Table of Contents",
   "title_sidebar": "Contents",
   "toc_cell": false,
   "toc_position": {},
   "toc_section_display": false,
   "toc_window_display": false
  }
 },
 "nbformat": 4,
 "nbformat_minor": 4
}

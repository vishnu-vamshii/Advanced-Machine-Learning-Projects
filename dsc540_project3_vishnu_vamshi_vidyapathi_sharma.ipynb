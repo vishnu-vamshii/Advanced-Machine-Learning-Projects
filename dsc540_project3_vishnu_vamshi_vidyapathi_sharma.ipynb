{
 "cells": [
  {
   "cell_type": "markdown",
   "metadata": {},
   "source": [
    "# DSC540 Project 3"
   ]
  },
  {
   "cell_type": "markdown",
   "metadata": {},
   "source": [
    "DePaul University  \n",
    "Ilyas Ustun, PhD  \n",
    "Chicago, IL  "
   ]
  },
  {
   "cell_type": "markdown",
   "metadata": {},
   "source": [
    "## Rules\n",
    "- Write your code under the corresponding questions. You are encouraged to use more than one cell.\n",
    "- Provide explanation in a separate Markdown formatted cell. \n",
    "- You can change the cell type by:\n",
    "    - Click on the outer area of the cell type you want to change,\n",
    "    - Go to the top, and select either Code or Markdown from the dropdown menu.\n",
    "- Be concise in your explanations and conclusions.\n",
    "- Write clear code and provide explanation to functions you create by using `#` comment sign.\n",
    "- Try to answer the questions by yourself. Use documentation from pandas, sklearn and similar libraries to solve the problem.\n",
    "- If you are stuck you can use different resources. Do not find an identical project and copy paste the solutions. \n",
    "- Write your name at the beginning of the jupyter notebook.\n",
    "\n",
    "\n",
    "Important:  \n",
    "- **Do NOT share the solutions with other people.**\n",
    "- **Do NOT share the solutions on the internet including but not limited to Github and other platforms.**\n",
    "- Sign the Honor Pledge below indicating that you have agreed to these rules listed here, and any other ethical and honor rules as required by the university.\n",
    "\n",
    "\n",
    "\n",
    "- **Deliverables:**\n",
    "    1. The Python Jupyter notebook file named properly with your name. Example: dsc540_project1_john_doe.ipynb\n",
    "    2. The HTML output of this code notebook names the same way. Example: dsc540_project1_john_doe.html\n",
    "        - File -> Download as -> HTML  \n",
    "        \n",
    "        \n",
    "**DO NOT zip the files.**\n",
    "\n",
    "Good Luck!"
   ]
  },
  {
   "cell_type": "markdown",
   "metadata": {},
   "source": [
    "### YOUR NAME HERE"
   ]
  },
  {
   "cell_type": "markdown",
   "metadata": {},
   "source": [
    "**Honor Pledge:**  \n",
    "I pledge on my honor that I, **Vishnu Vamshi Vidyapathi Sharma**, have followed the rules listed above, that I have not given or received any unauthorized assistance on this assignment. \n"
   ]
  },
  {
   "cell_type": "markdown",
   "metadata": {},
   "source": [
    "\n",
    "## Project Description\n",
    "\n",
    "In this project we will be analyzing CO and NOX gas emissions from a power plant. The variables, their meanings and some statistics are given in the table below."
   ]
  },
  {
   "cell_type": "markdown",
   "metadata": {},
   "source": [
    "![PowerPlantEmissionsFeaturesTable](PowerPlantEmissionsFeaturesTable.PNG)"
   ]
  },
  {
   "cell_type": "markdown",
   "metadata": {},
   "source": [
    "## Import Libraries\n",
    "\n",
    "**Import the usual libraries for pandas and plotting, and sklearn.**"
   ]
  },
  {
   "cell_type": "code",
   "execution_count": 1,
   "metadata": {},
   "outputs": [],
   "source": [
    "import pandas as pd\n",
    "import numpy as np\n",
    "import matplotlib.pyplot as plt\n",
    "import seaborn as sns\n",
    "\n",
    "from sklearn import metrics"
   ]
  },
  {
   "cell_type": "code",
   "execution_count": 4,
   "metadata": {},
   "outputs": [
    {
     "data": {
      "text/plain": [
       "'1.0.2'"
      ]
     },
     "execution_count": 4,
     "metadata": {},
     "output_type": "execute_result"
    }
   ],
   "source": [
    "import sklearn\n",
    "sklearn.__version__"
   ]
  },
  {
   "cell_type": "code",
   "execution_count": 5,
   "metadata": {},
   "outputs": [],
   "source": [
    "pd.set_option('display.max_columns', 100)\n",
    "RANDOM_STATE = 0"
   ]
  },
  {
   "cell_type": "markdown",
   "metadata": {},
   "source": [
    "### These are the packages I used"
   ]
  },
  {
   "cell_type": "code",
   "execution_count": 4,
   "metadata": {},
   "outputs": [],
   "source": [
    "# Your package imports here"
   ]
  },
  {
   "cell_type": "code",
   "execution_count": 86,
   "metadata": {},
   "outputs": [],
   "source": [
    "from sklearn.metrics import r2_score\n",
    "from sklearn.metrics import mean_squared_error\n",
    "from sklearn.metrics import mean_squared_error,confusion_matrix, recall_score, precision_score, balanced_accuracy_score, f1_score,accuracy_score\n",
    "from sklearn.metrics import accuracy_score"
   ]
  },
  {
   "cell_type": "markdown",
   "metadata": {},
   "source": [
    "> NOTE: For the Kernel RBF SVM hyper parameter tuning use these parameters in the questions:\n",
    "        \n",
    "        'C': [1, 10, 100, 1000]\n",
    "        'gamma': [0.001, 0.01, 0.1, 1]"
   ]
  },
  {
   "cell_type": "markdown",
   "metadata": {},
   "source": [
    "## Q1 [10]\n",
    "- Read in the dataset\n",
    "- How many rows and variables are there?\n"
   ]
  },
  {
   "cell_type": "markdown",
   "metadata": {},
   "source": [
    "#### Get the Data\n",
    "\n",
    "**Use pandas to read in the datasets as a dataframe.**"
   ]
  },
  {
   "cell_type": "code",
   "execution_count": 7,
   "metadata": {},
   "outputs": [],
   "source": [
    "df = pd.read_csv('gas_emissions.csv')"
   ]
  },
  {
   "cell_type": "code",
   "execution_count": 8,
   "metadata": {},
   "outputs": [
    {
     "data": {
      "text/html": [
       "<div>\n",
       "<style scoped>\n",
       "    .dataframe tbody tr th:only-of-type {\n",
       "        vertical-align: middle;\n",
       "    }\n",
       "\n",
       "    .dataframe tbody tr th {\n",
       "        vertical-align: top;\n",
       "    }\n",
       "\n",
       "    .dataframe thead th {\n",
       "        text-align: right;\n",
       "    }\n",
       "</style>\n",
       "<table border=\"1\" class=\"dataframe\">\n",
       "  <thead>\n",
       "    <tr style=\"text-align: right;\">\n",
       "      <th></th>\n",
       "      <th>AT</th>\n",
       "      <th>AP</th>\n",
       "      <th>AH</th>\n",
       "      <th>AFDP</th>\n",
       "      <th>GTEP</th>\n",
       "      <th>TIT</th>\n",
       "      <th>TAT</th>\n",
       "      <th>TEY</th>\n",
       "      <th>CDP</th>\n",
       "      <th>CO</th>\n",
       "      <th>NOX</th>\n",
       "    </tr>\n",
       "  </thead>\n",
       "  <tbody>\n",
       "    <tr>\n",
       "      <th>0</th>\n",
       "      <td>1.95320</td>\n",
       "      <td>1020.1</td>\n",
       "      <td>84.985</td>\n",
       "      <td>2.5304</td>\n",
       "      <td>20.116</td>\n",
       "      <td>1048.7</td>\n",
       "      <td>544.92</td>\n",
       "      <td>116.27</td>\n",
       "      <td>10.799</td>\n",
       "      <td>7.4491</td>\n",
       "      <td>113.250</td>\n",
       "    </tr>\n",
       "    <tr>\n",
       "      <th>1</th>\n",
       "      <td>1.21910</td>\n",
       "      <td>1020.1</td>\n",
       "      <td>87.523</td>\n",
       "      <td>2.3937</td>\n",
       "      <td>18.584</td>\n",
       "      <td>1045.5</td>\n",
       "      <td>548.50</td>\n",
       "      <td>109.18</td>\n",
       "      <td>10.347</td>\n",
       "      <td>6.4684</td>\n",
       "      <td>112.020</td>\n",
       "    </tr>\n",
       "    <tr>\n",
       "      <th>2</th>\n",
       "      <td>0.94915</td>\n",
       "      <td>1022.2</td>\n",
       "      <td>78.335</td>\n",
       "      <td>2.7789</td>\n",
       "      <td>22.264</td>\n",
       "      <td>1068.8</td>\n",
       "      <td>549.95</td>\n",
       "      <td>125.88</td>\n",
       "      <td>11.256</td>\n",
       "      <td>3.6335</td>\n",
       "      <td>88.147</td>\n",
       "    </tr>\n",
       "    <tr>\n",
       "      <th>3</th>\n",
       "      <td>1.00750</td>\n",
       "      <td>1021.7</td>\n",
       "      <td>76.942</td>\n",
       "      <td>2.8170</td>\n",
       "      <td>23.358</td>\n",
       "      <td>1075.2</td>\n",
       "      <td>549.63</td>\n",
       "      <td>132.21</td>\n",
       "      <td>11.702</td>\n",
       "      <td>3.1972</td>\n",
       "      <td>87.078</td>\n",
       "    </tr>\n",
       "    <tr>\n",
       "      <th>4</th>\n",
       "      <td>1.28580</td>\n",
       "      <td>1021.6</td>\n",
       "      <td>76.732</td>\n",
       "      <td>2.8377</td>\n",
       "      <td>23.483</td>\n",
       "      <td>1076.2</td>\n",
       "      <td>549.68</td>\n",
       "      <td>133.58</td>\n",
       "      <td>11.737</td>\n",
       "      <td>2.3833</td>\n",
       "      <td>82.515</td>\n",
       "    </tr>\n",
       "  </tbody>\n",
       "</table>\n",
       "</div>"
      ],
      "text/plain": [
       "        AT      AP      AH    AFDP    GTEP     TIT     TAT     TEY     CDP  \\\n",
       "0  1.95320  1020.1  84.985  2.5304  20.116  1048.7  544.92  116.27  10.799   \n",
       "1  1.21910  1020.1  87.523  2.3937  18.584  1045.5  548.50  109.18  10.347   \n",
       "2  0.94915  1022.2  78.335  2.7789  22.264  1068.8  549.95  125.88  11.256   \n",
       "3  1.00750  1021.7  76.942  2.8170  23.358  1075.2  549.63  132.21  11.702   \n",
       "4  1.28580  1021.6  76.732  2.8377  23.483  1076.2  549.68  133.58  11.737   \n",
       "\n",
       "       CO      NOX  \n",
       "0  7.4491  113.250  \n",
       "1  6.4684  112.020  \n",
       "2  3.6335   88.147  \n",
       "3  3.1972   87.078  \n",
       "4  2.3833   82.515  "
      ]
     },
     "execution_count": 8,
     "metadata": {},
     "output_type": "execute_result"
    }
   ],
   "source": [
    "df.head(5)"
   ]
  },
  {
   "cell_type": "code",
   "execution_count": 26,
   "metadata": {},
   "outputs": [
    {
     "data": {
      "text/plain": [
       "(7384, 11)"
      ]
     },
     "execution_count": 26,
     "metadata": {},
     "output_type": "execute_result"
    }
   ],
   "source": [
    "df.shape"
   ]
  },
  {
   "cell_type": "markdown",
   "metadata": {},
   "source": [
    "There are 7384 rows and 11 columns in the dataset."
   ]
  },
  {
   "cell_type": "markdown",
   "metadata": {},
   "source": [
    "#### Is there any missing data?"
   ]
  },
  {
   "cell_type": "code",
   "execution_count": 9,
   "metadata": {},
   "outputs": [
    {
     "data": {
      "text/plain": [
       "AT      0\n",
       "AP      0\n",
       "AH      0\n",
       "AFDP    0\n",
       "GTEP    0\n",
       "TIT     0\n",
       "TAT     0\n",
       "TEY     0\n",
       "CDP     0\n",
       "CO      0\n",
       "NOX     0\n",
       "dtype: int64"
      ]
     },
     "execution_count": 9,
     "metadata": {},
     "output_type": "execute_result"
    }
   ],
   "source": [
    " df.isnull().sum()"
   ]
  },
  {
   "cell_type": "markdown",
   "metadata": {},
   "source": [
    "No missinng values"
   ]
  },
  {
   "cell_type": "markdown",
   "metadata": {},
   "source": [
    "#### What is the average value of AP for those points who have CO levels above 3 $mg/m^3$?"
   ]
  },
  {
   "cell_type": "code",
   "execution_count": 10,
   "metadata": {},
   "outputs": [
    {
     "data": {
      "text/plain": [
       "1015.6900173490633"
      ]
     },
     "execution_count": 10,
     "metadata": {},
     "output_type": "execute_result"
    }
   ],
   "source": [
    "df[df['CO'] > 3]['AP'].mean()"
   ]
  },
  {
   "cell_type": "markdown",
   "metadata": {},
   "source": [
    "#### Create a correlation map between the variables. Which variables have high correlation (> |0.9|)?"
   ]
  },
  {
   "cell_type": "code",
   "execution_count": 11,
   "metadata": {},
   "outputs": [
    {
     "data": {
      "text/html": [
       "<div>\n",
       "<style scoped>\n",
       "    .dataframe tbody tr th:only-of-type {\n",
       "        vertical-align: middle;\n",
       "    }\n",
       "\n",
       "    .dataframe tbody tr th {\n",
       "        vertical-align: top;\n",
       "    }\n",
       "\n",
       "    .dataframe thead th {\n",
       "        text-align: right;\n",
       "    }\n",
       "</style>\n",
       "<table border=\"1\" class=\"dataframe\">\n",
       "  <thead>\n",
       "    <tr style=\"text-align: right;\">\n",
       "      <th></th>\n",
       "      <th>AT</th>\n",
       "      <th>AP</th>\n",
       "      <th>AH</th>\n",
       "      <th>AFDP</th>\n",
       "      <th>GTEP</th>\n",
       "      <th>TIT</th>\n",
       "      <th>TAT</th>\n",
       "      <th>TEY</th>\n",
       "      <th>CDP</th>\n",
       "      <th>CO</th>\n",
       "      <th>NOX</th>\n",
       "    </tr>\n",
       "  </thead>\n",
       "  <tbody>\n",
       "    <tr>\n",
       "      <th>AT</th>\n",
       "      <td>1.000000</td>\n",
       "      <td>-0.493098</td>\n",
       "      <td>-0.466288</td>\n",
       "      <td>0.468976</td>\n",
       "      <td>0.193578</td>\n",
       "      <td>0.330112</td>\n",
       "      <td>0.208277</td>\n",
       "      <td>0.109437</td>\n",
       "      <td>0.200909</td>\n",
       "      <td>-0.390647</td>\n",
       "      <td>-0.593580</td>\n",
       "    </tr>\n",
       "    <tr>\n",
       "      <th>AP</th>\n",
       "      <td>-0.493098</td>\n",
       "      <td>1.000000</td>\n",
       "      <td>0.084381</td>\n",
       "      <td>-0.094144</td>\n",
       "      <td>-0.043730</td>\n",
       "      <td>-0.081605</td>\n",
       "      <td>-0.290147</td>\n",
       "      <td>0.050326</td>\n",
       "      <td>0.029420</td>\n",
       "      <td>0.200945</td>\n",
       "      <td>0.214236</td>\n",
       "    </tr>\n",
       "    <tr>\n",
       "      <th>AH</th>\n",
       "      <td>-0.466288</td>\n",
       "      <td>0.084381</td>\n",
       "      <td>1.000000</td>\n",
       "      <td>-0.245456</td>\n",
       "      <td>-0.297708</td>\n",
       "      <td>-0.260683</td>\n",
       "      <td>0.026251</td>\n",
       "      <td>-0.182732</td>\n",
       "      <td>-0.221706</td>\n",
       "      <td>0.158999</td>\n",
       "      <td>0.065351</td>\n",
       "    </tr>\n",
       "    <tr>\n",
       "      <th>AFDP</th>\n",
       "      <td>0.468976</td>\n",
       "      <td>-0.094144</td>\n",
       "      <td>-0.245456</td>\n",
       "      <td>1.000000</td>\n",
       "      <td>0.843958</td>\n",
       "      <td>0.915128</td>\n",
       "      <td>-0.519807</td>\n",
       "      <td>0.884954</td>\n",
       "      <td>0.922991</td>\n",
       "      <td>-0.640789</td>\n",
       "      <td>-0.584452</td>\n",
       "    </tr>\n",
       "    <tr>\n",
       "      <th>GTEP</th>\n",
       "      <td>0.193578</td>\n",
       "      <td>-0.043730</td>\n",
       "      <td>-0.297708</td>\n",
       "      <td>0.843958</td>\n",
       "      <td>1.000000</td>\n",
       "      <td>0.892851</td>\n",
       "      <td>-0.620652</td>\n",
       "      <td>0.932337</td>\n",
       "      <td>0.938142</td>\n",
       "      <td>-0.557177</td>\n",
       "      <td>-0.366655</td>\n",
       "    </tr>\n",
       "    <tr>\n",
       "      <th>TIT</th>\n",
       "      <td>0.330112</td>\n",
       "      <td>-0.081605</td>\n",
       "      <td>-0.260683</td>\n",
       "      <td>0.915128</td>\n",
       "      <td>0.892851</td>\n",
       "      <td>1.000000</td>\n",
       "      <td>-0.396161</td>\n",
       "      <td>0.951813</td>\n",
       "      <td>0.951590</td>\n",
       "      <td>-0.738092</td>\n",
       "      <td>-0.520081</td>\n",
       "    </tr>\n",
       "    <tr>\n",
       "      <th>TAT</th>\n",
       "      <td>0.208277</td>\n",
       "      <td>-0.290147</td>\n",
       "      <td>0.026251</td>\n",
       "      <td>-0.519807</td>\n",
       "      <td>-0.620652</td>\n",
       "      <td>-0.396161</td>\n",
       "      <td>1.000000</td>\n",
       "      <td>-0.633933</td>\n",
       "      <td>-0.656613</td>\n",
       "      <td>0.025768</td>\n",
       "      <td>0.054455</td>\n",
       "    </tr>\n",
       "    <tr>\n",
       "      <th>TEY</th>\n",
       "      <td>0.109437</td>\n",
       "      <td>0.050326</td>\n",
       "      <td>-0.182732</td>\n",
       "      <td>0.884954</td>\n",
       "      <td>0.932337</td>\n",
       "      <td>0.951813</td>\n",
       "      <td>-0.633933</td>\n",
       "      <td>1.000000</td>\n",
       "      <td>0.991207</td>\n",
       "      <td>-0.616791</td>\n",
       "      <td>-0.403278</td>\n",
       "    </tr>\n",
       "    <tr>\n",
       "      <th>CDP</th>\n",
       "      <td>0.200909</td>\n",
       "      <td>0.029420</td>\n",
       "      <td>-0.221706</td>\n",
       "      <td>0.922991</td>\n",
       "      <td>0.938142</td>\n",
       "      <td>0.951590</td>\n",
       "      <td>-0.656613</td>\n",
       "      <td>0.991207</td>\n",
       "      <td>1.000000</td>\n",
       "      <td>-0.612653</td>\n",
       "      <td>-0.443093</td>\n",
       "    </tr>\n",
       "    <tr>\n",
       "      <th>CO</th>\n",
       "      <td>-0.390647</td>\n",
       "      <td>0.200945</td>\n",
       "      <td>0.158999</td>\n",
       "      <td>-0.640789</td>\n",
       "      <td>-0.557177</td>\n",
       "      <td>-0.738092</td>\n",
       "      <td>0.025768</td>\n",
       "      <td>-0.616791</td>\n",
       "      <td>-0.612653</td>\n",
       "      <td>1.000000</td>\n",
       "      <td>0.678394</td>\n",
       "    </tr>\n",
       "    <tr>\n",
       "      <th>NOX</th>\n",
       "      <td>-0.593580</td>\n",
       "      <td>0.214236</td>\n",
       "      <td>0.065351</td>\n",
       "      <td>-0.584452</td>\n",
       "      <td>-0.366655</td>\n",
       "      <td>-0.520081</td>\n",
       "      <td>0.054455</td>\n",
       "      <td>-0.403278</td>\n",
       "      <td>-0.443093</td>\n",
       "      <td>0.678394</td>\n",
       "      <td>1.000000</td>\n",
       "    </tr>\n",
       "  </tbody>\n",
       "</table>\n",
       "</div>"
      ],
      "text/plain": [
       "            AT        AP        AH      AFDP      GTEP       TIT       TAT  \\\n",
       "AT    1.000000 -0.493098 -0.466288  0.468976  0.193578  0.330112  0.208277   \n",
       "AP   -0.493098  1.000000  0.084381 -0.094144 -0.043730 -0.081605 -0.290147   \n",
       "AH   -0.466288  0.084381  1.000000 -0.245456 -0.297708 -0.260683  0.026251   \n",
       "AFDP  0.468976 -0.094144 -0.245456  1.000000  0.843958  0.915128 -0.519807   \n",
       "GTEP  0.193578 -0.043730 -0.297708  0.843958  1.000000  0.892851 -0.620652   \n",
       "TIT   0.330112 -0.081605 -0.260683  0.915128  0.892851  1.000000 -0.396161   \n",
       "TAT   0.208277 -0.290147  0.026251 -0.519807 -0.620652 -0.396161  1.000000   \n",
       "TEY   0.109437  0.050326 -0.182732  0.884954  0.932337  0.951813 -0.633933   \n",
       "CDP   0.200909  0.029420 -0.221706  0.922991  0.938142  0.951590 -0.656613   \n",
       "CO   -0.390647  0.200945  0.158999 -0.640789 -0.557177 -0.738092  0.025768   \n",
       "NOX  -0.593580  0.214236  0.065351 -0.584452 -0.366655 -0.520081  0.054455   \n",
       "\n",
       "           TEY       CDP        CO       NOX  \n",
       "AT    0.109437  0.200909 -0.390647 -0.593580  \n",
       "AP    0.050326  0.029420  0.200945  0.214236  \n",
       "AH   -0.182732 -0.221706  0.158999  0.065351  \n",
       "AFDP  0.884954  0.922991 -0.640789 -0.584452  \n",
       "GTEP  0.932337  0.938142 -0.557177 -0.366655  \n",
       "TIT   0.951813  0.951590 -0.738092 -0.520081  \n",
       "TAT  -0.633933 -0.656613  0.025768  0.054455  \n",
       "TEY   1.000000  0.991207 -0.616791 -0.403278  \n",
       "CDP   0.991207  1.000000 -0.612653 -0.443093  \n",
       "CO   -0.616791 -0.612653  1.000000  0.678394  \n",
       "NOX  -0.403278 -0.443093  0.678394  1.000000  "
      ]
     },
     "execution_count": 11,
     "metadata": {},
     "output_type": "execute_result"
    }
   ],
   "source": [
    "df.corr()"
   ]
  },
  {
   "cell_type": "code",
   "execution_count": 12,
   "metadata": {},
   "outputs": [
    {
     "name": "stdout",
     "output_type": "stream",
     "text": [
      "         AT     AP     AH   AFDP   GTEP    TIT    TAT    TEY    CDP     CO  \\\n",
      "AT     True  False  False  False  False  False  False  False  False  False   \n",
      "AP    False   True  False  False  False  False  False  False  False  False   \n",
      "AH    False  False   True  False  False  False  False  False  False  False   \n",
      "AFDP  False  False  False   True  False   True  False  False   True  False   \n",
      "GTEP  False  False  False  False   True  False  False   True   True  False   \n",
      "TIT   False  False  False   True  False   True  False   True   True  False   \n",
      "TAT   False  False  False  False  False  False   True  False  False  False   \n",
      "TEY   False  False  False  False   True   True  False   True   True  False   \n",
      "CDP   False  False  False   True   True   True  False   True   True  False   \n",
      "CO    False  False  False  False  False  False  False  False  False   True   \n",
      "NOX   False  False  False  False  False  False  False  False  False  False   \n",
      "\n",
      "        NOX  \n",
      "AT    False  \n",
      "AP    False  \n",
      "AH    False  \n",
      "AFDP  False  \n",
      "GTEP  False  \n",
      "TIT   False  \n",
      "TAT   False  \n",
      "TEY   False  \n",
      "CDP   False  \n",
      "CO    False  \n",
      "NOX    True  \n"
     ]
    }
   ],
   "source": [
    "highcorr = df.corr().abs() > 0.9\n",
    "print(highcorr)"
   ]
  },
  {
   "cell_type": "markdown",
   "metadata": {},
   "source": [
    "#### Create a scatter plot of 'TEY' vs 'CDP'"
   ]
  },
  {
   "cell_type": "code",
   "execution_count": 13,
   "metadata": {},
   "outputs": [
    {
     "data": {
      "image/png": "[encoded data removed]",
      "text/plain": [
       "<Figure size 432x288 with 1 Axes>"
      ]
     },
     "metadata": {
      "needs_background": "light"
     },
     "output_type": "display_data"
    }
   ],
   "source": [
    "sns.scatterplot(data=df, x='TEY', y='CDP')\n",
    "plt.show()"
   ]
  },
  {
   "cell_type": "code",
   "execution_count": 9,
   "metadata": {},
   "outputs": [
    {
     "data": {
      "text/plain": [
       "<AxesSubplot:xlabel='CDP', ylabel='TEY'>"
      ]
     },
     "execution_count": 9,
     "metadata": {},
     "output_type": "execute_result"
    },
    {
     "data": {
      "image/png": "[encoded data removed]",
      "text/plain": [
       "<Figure size 432x288 with 1 Axes>"
      ]
     },
     "metadata": {
      "needs_background": "light"
     },
     "output_type": "display_data"
    }
   ],
   "source": []
  },
  {
   "cell_type": "markdown",
   "metadata": {},
   "source": [
    "#### Create histograms for CO and NOX."
   ]
  },
  {
   "cell_type": "code",
   "execution_count": 14,
   "metadata": {},
   "outputs": [
    {
     "data": {
      "image/png": "[encoded data removed]",
      "text/plain": [
       "<Figure size 432x288 with 1 Axes>"
      ]
     },
     "metadata": {
      "needs_background": "light"
     },
     "output_type": "display_data"
    },
    {
     "data": {
      "image/png": "[encoded data removed]",
      "text/plain": [
       "<Figure size 432x288 with 1 Axes>"
      ]
     },
     "metadata": {
      "needs_background": "light"
     },
     "output_type": "display_data"
    }
   ],
   "source": [
    "sns.histplot(data=df, x='CO')\n",
    "plt.show()\n",
    "sns.histplot(data=df, x='NOX')\n",
    "plt.show()"
   ]
  },
  {
   "cell_type": "code",
   "execution_count": 10,
   "metadata": {},
   "outputs": [
    {
     "data": {
      "image/png": "[encoded data removed]",
      "text/plain": [
       "<Figure size 432x288 with 1 Axes>"
      ]
     },
     "metadata": {
      "needs_background": "light"
     },
     "output_type": "display_data"
    }
   ],
   "source": []
  },
  {
   "cell_type": "code",
   "execution_count": 11,
   "metadata": {},
   "outputs": [
    {
     "data": {
      "image/png": "[encoded data removed]",
      "text/plain": [
       "<Figure size 432x288 with 1 Axes>"
      ]
     },
     "metadata": {
      "needs_background": "light"
     },
     "output_type": "display_data"
    }
   ],
   "source": []
  },
  {
   "cell_type": "markdown",
   "metadata": {},
   "source": [
    "#### Create a sctter plot of CO vs NOX."
   ]
  },
  {
   "cell_type": "code",
   "execution_count": 18,
   "metadata": {},
   "outputs": [
    {
     "data": {
      "image/png": "[encoded data removed]",
      "text/plain": [
       "<Figure size 432x288 with 1 Axes>"
      ]
     },
     "metadata": {
      "needs_background": "light"
     },
     "output_type": "display_data"
    }
   ],
   "source": [
    "sns.scatterplot(data=df,x='NOX', y='CO')\n",
    "plt.show()"
   ]
  },
  {
   "cell_type": "code",
   "execution_count": 12,
   "metadata": {},
   "outputs": [
    {
     "data": {
      "text/plain": [
       "<AxesSubplot:xlabel='NOX', ylabel='CO'>"
      ]
     },
     "execution_count": 12,
     "metadata": {},
     "output_type": "execute_result"
    },
    {
     "data": {
      "image/png": "[encoded data removed]",
      "text/plain": [
       "<Figure size 432x288 with 1 Axes>"
      ]
     },
     "metadata": {
      "needs_background": "light"
     },
     "output_type": "display_data"
    }
   ],
   "source": []
  },
  {
   "cell_type": "markdown",
   "metadata": {},
   "source": [
    "### Prepare data for machine learning"
   ]
  },
  {
   "cell_type": "markdown",
   "metadata": {},
   "source": [
    "- We will predict CO using all the other variables.\n",
    "- NOX, which is another emission gas, will not be used as predictor.\n",
    "- CO is a continuous variable, thus we will be doing regression.\n",
    "- Many of algorithms that do classification also have regression counterparts."
   ]
  },
  {
   "cell_type": "code",
   "execution_count": 19,
   "metadata": {},
   "outputs": [],
   "source": [
    "y = df.CO\n",
    "X = df.drop(['CO', 'NOX'], axis=1)"
   ]
  },
  {
   "cell_type": "code",
   "execution_count": 20,
   "metadata": {},
   "outputs": [],
   "source": [
    "from sklearn.model_selection import train_test_split\n",
    "X_train, X_test, y_train, y_test = train_test_split(X, y, test_size=0.10, random_state=RANDOM_STATE)\n",
    "X_train, X_val, y_train, y_val = train_test_split(X_train, y_train, test_size=0.20, random_state=RANDOM_STATE)"
   ]
  },
  {
   "cell_type": "code",
   "execution_count": 21,
   "metadata": {},
   "outputs": [],
   "source": [
    "# Standardization of the data\n",
    "from sklearn.preprocessing import StandardScaler\n",
    "ss = StandardScaler()\n",
    "ss.fit(X_train)\n",
    "X_train = ss.transform(X_train)\n",
    "X_val = ss.transform(X_val)\n",
    "X_test = ss.transform(X_test)"
   ]
  },
  {
   "cell_type": "code",
   "execution_count": 22,
   "metadata": {},
   "outputs": [
    {
     "data": {
      "text/plain": [
       "(5316, 9)"
      ]
     },
     "execution_count": 22,
     "metadata": {},
     "output_type": "execute_result"
    }
   ],
   "source": [
    "X_train.shape"
   ]
  },
  {
   "cell_type": "code",
   "execution_count": 23,
   "metadata": {},
   "outputs": [
    {
     "data": {
      "text/plain": [
       "(1329, 9)"
      ]
     },
     "execution_count": 23,
     "metadata": {},
     "output_type": "execute_result"
    }
   ],
   "source": [
    "X_val.shape"
   ]
  },
  {
   "cell_type": "code",
   "execution_count": 27,
   "metadata": {},
   "outputs": [
    {
     "data": {
      "text/plain": [
       "(739, 9)"
      ]
     },
     "execution_count": 27,
     "metadata": {},
     "output_type": "execute_result"
    }
   ],
   "source": [
    "X_test.shape"
   ]
  },
  {
   "cell_type": "markdown",
   "metadata": {},
   "source": [
    "## Utility Functions"
   ]
  },
  {
   "cell_type": "markdown",
   "metadata": {},
   "source": [
    "You can create helper functions.\n",
    "For example, create functions that take the score and store it in a dataframe for a specific model."
   ]
  },
  {
   "cell_type": "code",
   "execution_count": 20,
   "metadata": {},
   "outputs": [],
   "source": []
  },
  {
   "cell_type": "code",
   "execution_count": 21,
   "metadata": {},
   "outputs": [],
   "source": []
  },
  {
   "cell_type": "code",
   "execution_count": 22,
   "metadata": {},
   "outputs": [],
   "source": []
  },
  {
   "cell_type": "markdown",
   "metadata": {},
   "source": [
    "## Q2 [10]"
   ]
  },
  {
   "cell_type": "markdown",
   "metadata": {},
   "source": [
    "- Apply Linear Regression. Predict CO emission using other variables.\n",
    "    - What is the model $R^2$ on training data?\n",
    "    - What is the $R^2$ on validation data?\n",
    "    - What is the Root Mean Squared Error (RMSE) on training data?\n",
    "    - What is the RMSE on validation data?\n",
    "    \n",
    "> - $R^2$ higher is better. ($R^2$ is % variation in data being explained)  \n",
    "> - RMSE lower is better. (RMSE (Root Mean Squared Error) is error, meaning the difference between predictions and actual data)  \n",
    "\n",
    "Hint:  \n",
    "- You can use the `r2_score` and `mean_squared_error` methods in `sklearn.metrics`.   \n",
    "- You need to take the square root of Mean Squared Error to get to RMSE. (MSE $\\rightarrow$ square root $\\rightarrow$ RMSE)"
   ]
  },
  {
   "cell_type": "code",
   "execution_count": 28,
   "metadata": {},
   "outputs": [],
   "source": [
    "from sklearn.linear_model import LinearRegression"
   ]
  },
  {
   "cell_type": "code",
   "execution_count": 45,
   "metadata": {},
   "outputs": [
    {
     "name": "stdout",
     "output_type": "stream",
     "text": [
      "Training R2: 0.6640090820784397\n",
      "Validation R2: 0.646343190818214\n",
      "Training RMSE: 1.2720122104103533\n",
      "Validation RMSE: 1.3884894690085985\n"
     ]
    }
   ],
   "source": [
    "lr = LinearRegression()\n",
    "\n",
    "#fit model to training data\n",
    "lr.fit(X_train, y_train)\n",
    "\n",
    "#Prediction on training and validation data\n",
    "y_pred_train = lr.predict(X_train)\n",
    "y_pred_val = lr.predict(X_val)\n",
    "\n",
    "#R2 and RMSE for training and validation data\n",
    "r2_train = r2_score(y_train, y_pred_train)\n",
    "r2_val = r2_score(y_val, y_pred_val)\n",
    "\n",
    "mse_train = mean_squared_error(y_train, y_pred_train)\n",
    "mse_val = mean_squared_error(y_val, y_pred_val)\n",
    "\n",
    "print(\"Training R2:\", r2_train)\n",
    "print(\"Validation R2:\", r2_val)\n",
    "print(\"Training RMSE:\", np.sqrt(mse_train))\n",
    "print(\"Validation RMSE:\", np.sqrt(mse_val))"
   ]
  },
  {
   "cell_type": "markdown",
   "metadata": {},
   "source": [
    "## Q3 [10]"
   ]
  },
  {
   "cell_type": "markdown",
   "metadata": {},
   "source": [
    "- Apply Random Forest Regression with 100 trees. Predict CO emission using other variables.\n",
    "    - What is the model $R^2$?\n",
    "    - What is the $R^2$ on validation data?\n",
    "    - What is the RMSE on training data?\n",
    "    - What is the RMSE on validation data?\n",
    "\n",
    "- Is training and validation score close? If not what might be the problem?\n",
    "- If there is a large gap, try to decrease the gap by changing some hyperparameters of the Random Forest model. (In this analysis, any difference more than 0.10 $R^2$ difference can be assumed to be large.)\n",
    "    - Once you reach a difference of less than or close to 0.10 between training $R^2$ and validation $R^2$ you can stop. \n",
    "    - During this process your training score will probably decrease, and that is OK. "
   ]
  },
  {
   "cell_type": "code",
   "execution_count": 41,
   "metadata": {},
   "outputs": [],
   "source": [
    "from sklearn.ensemble import RandomForestRegressor"
   ]
  },
  {
   "cell_type": "code",
   "execution_count": 51,
   "metadata": {},
   "outputs": [],
   "source": [
    "estimator = RandomForestRegressor(n_estimators=100, random_state=RANDOM_STATE)"
   ]
  },
  {
   "cell_type": "code",
   "execution_count": 52,
   "metadata": {},
   "outputs": [
    {
     "name": "stdout",
     "output_type": "stream",
     "text": [
      "Training R2: 0.9635412068046666\n",
      "Validation R2: 0.7558012206331827\n",
      "Training RMSE: 0.419014117669241\n",
      "Validation RMSE: 1.1537808394478866\n"
     ]
    }
   ],
   "source": [
    "#fit model to training data\n",
    "estimator.fit(X_train, y_train)\n",
    "\n",
    "#Prediction on training and validation data\n",
    "y_pred_train2 = estimator.predict(X_train)\n",
    "y_pred_val2 = estimator.predict(X_val)\n",
    "\n",
    "#R2 and RMSE for training and validation data\n",
    "r2_train2 = r2_score(y_train, y_pred_train2)\n",
    "r2_val2 = r2_score(y_val, y_pred_val2)\n",
    "\n",
    "mse_train2 = mean_squared_error(y_train, y_pred_train2)\n",
    "mse_val2 = mean_squared_error(y_val, y_pred_val2)\n",
    "\n",
    "print(\"Training R2:\", r2_train2)\n",
    "print(\"Validation R2:\", r2_val2)\n",
    "print(\"Training RMSE:\", np.sqrt(mse_train2))\n",
    "print(\"Validation RMSE:\", np.sqrt(mse_val2))"
   ]
  },
  {
   "cell_type": "markdown",
   "metadata": {},
   "source": [
    "The training and validation R2 score is not small because it is not able to explain all the variance but only some. It can use some hyper parameter tuning to bring it down."
   ]
  },
  {
   "cell_type": "code",
   "execution_count": 98,
   "metadata": {},
   "outputs": [
    {
     "name": "stdout",
     "output_type": "stream",
     "text": [
      "Training R2: 0.8191246789048213\n",
      "Validation R2: 0.7455615444451178\n",
      "Training RMSE: 0.9332911952440882\n",
      "Validation RMSE: 1.177722449160911\n"
     ]
    }
   ],
   "source": [
    "estimator_imp = RandomForestRegressor(n_estimators=250, max_depth=5, min_samples_split=10, random_state=RANDOM_STATE)\n",
    "estimator_imp.fit(X_train, y_train)\n",
    "\n",
    "#Prediction on training and validation data\n",
    "y_pred_train_imp = estimator_imp.predict(X_train)\n",
    "y_pred_val_imp = estimator_imp.predict(X_val)\n",
    "\n",
    "#R2 and RMSE for training and validation data\n",
    "r2_train_imp = r2_score(y_train, y_pred_train_imp)\n",
    "r2_val_imp = r2_score(y_val, y_pred_val_imp)\n",
    "\n",
    "mse_train_imp = mean_squared_error(y_train, y_pred_train_imp)\n",
    "mse_val_imp = mean_squared_error(y_val, y_pred_val_imp)\n",
    "\n",
    "print(\"Training R2:\", r2_train_imp)\n",
    "print(\"Validation R2:\", r2_val_imp)\n",
    "print(\"Training RMSE:\", np.sqrt(mse_train_imp))\n",
    "print(\"Validation RMSE:\", np.sqrt(mse_val_imp))\n"
   ]
  },
  {
   "cell_type": "markdown",
   "metadata": {},
   "source": [
    "The different is brought down by performing hyperparameter tuning "
   ]
  },
  {
   "cell_type": "markdown",
   "metadata": {},
   "source": [
    "## Q4 [10]"
   ]
  },
  {
   "cell_type": "markdown",
   "metadata": {},
   "source": [
    "- Apply Support Vector Regression. Predict CO emission using other variables.\n",
    "    - What is the model $R^2$?\n",
    "    - What is the $R^2$ on validation data?\n",
    "    - What is the RMSE on training data?\n",
    "    - What is the RMSE on validation data?\n",
    "    \n",
    "- Do this for each of the models listed below using the default parameters:  \n",
    "    1. **Linear kernel SVR**  \n",
    "    2. **Polynomial kernel SVR**  \n",
    "    3. **RBF kernel SVR** "
   ]
  },
  {
   "cell_type": "code",
   "execution_count": 54,
   "metadata": {},
   "outputs": [],
   "source": [
    "from sklearn.svm import SVR"
   ]
  },
  {
   "cell_type": "markdown",
   "metadata": {},
   "source": [
    "### Linear SVM Regressor"
   ]
  },
  {
   "cell_type": "code",
   "execution_count": 55,
   "metadata": {},
   "outputs": [
    {
     "data": {
      "text/plain": [
       "SVR(kernel='linear')"
      ]
     },
     "execution_count": 55,
     "metadata": {},
     "output_type": "execute_result"
    }
   ],
   "source": [
    "estimator = SVR(kernel='linear')\n",
    "estimator"
   ]
  },
  {
   "cell_type": "code",
   "execution_count": 56,
   "metadata": {},
   "outputs": [
    {
     "name": "stdout",
     "output_type": "stream",
     "text": [
      "Training R2: 0.6244164650454904\n",
      "Validation R2: 0.6021524213732284\n",
      "Training RMSE: 1.3448714796326715\n",
      "Validation RMSE: 1.4726852520481604\n"
     ]
    }
   ],
   "source": [
    "#fit model to training data\n",
    "estimator.fit(X_train, y_train)\n",
    "\n",
    "#Prediction on training and validation data\n",
    "y_pred_train3 = estimator.predict(X_train)\n",
    "y_pred_val3 = estimator.predict(X_val)\n",
    "\n",
    "#R2 and RMSE for training and validation data\n",
    "r2_train3 = r2_score(y_train, y_pred_train3)\n",
    "r2_val3 = r2_score(y_val, y_pred_val3)\n",
    "\n",
    "mse_train3 = mean_squared_error(y_train, y_pred_train3)\n",
    "mse_val3 = mean_squared_error(y_val, y_pred_val3)\n",
    "\n",
    "print(\"Training R2:\", r2_train3)\n",
    "print(\"Validation R2:\", r2_val3)\n",
    "print(\"Training RMSE:\", np.sqrt(mse_train3))\n",
    "print(\"Validation RMSE:\", np.sqrt(mse_val3))"
   ]
  },
  {
   "cell_type": "markdown",
   "metadata": {},
   "source": [
    "### Polynomial Kernel SVM Regressor"
   ]
  },
  {
   "cell_type": "code",
   "execution_count": 106,
   "metadata": {},
   "outputs": [],
   "source": [
    "from sklearn.svm import SVR\n",
    "estimator = SVR(kernel='poly')"
   ]
  },
  {
   "cell_type": "code",
   "execution_count": 107,
   "metadata": {},
   "outputs": [
    {
     "name": "stdout",
     "output_type": "stream",
     "text": [
      "Training R2: 0.7404852376508417\n",
      "Validation R2: 0.7310487212257806\n",
      "Training RMSE: 1.1179143857689047\n",
      "Validation RMSE: 1.2108445318365073\n"
     ]
    }
   ],
   "source": [
    "#fit model to training data\n",
    "estimator.fit(X_train, y_train)\n",
    "\n",
    "#Prediction on training and validation data\n",
    "y_pred_train4 = estimator.predict(X_train)\n",
    "y_pred_val4 = estimator.predict(X_val)\n",
    "\n",
    "#R2 and RMSE for training and validation data\n",
    "r2_train4 = r2_score(y_train, y_pred_train4)\n",
    "r2_val4 = r2_score(y_val, y_pred_val4)\n",
    "\n",
    "mse_train4 = mean_squared_error(y_train, y_pred_train4)\n",
    "mse_val4 = mean_squared_error(y_val, y_pred_val4)\n",
    "\n",
    "print(\"Training R2:\", r2_train4)\n",
    "print(\"Validation R2:\", r2_val4)\n",
    "print(\"Training RMSE:\", np.sqrt(mse_train4))\n",
    "print(\"Validation RMSE:\", np.sqrt(mse_val4))"
   ]
  },
  {
   "cell_type": "markdown",
   "metadata": {},
   "source": [
    "### RBF Kernel SVM Regressor"
   ]
  },
  {
   "cell_type": "code",
   "execution_count": 63,
   "metadata": {},
   "outputs": [],
   "source": [
    "from sklearn.svm import SVR\n",
    "estimator = SVR(kernel='rbf')"
   ]
  },
  {
   "cell_type": "code",
   "execution_count": 67,
   "metadata": {},
   "outputs": [
    {
     "name": "stdout",
     "output_type": "stream",
     "text": [
      "Training R2: 0.7653225070588421\n",
      "Validation R2: 0.7476173201040636\n",
      "Training RMSE: 1.0630733502205558\n",
      "Validation RMSE: 1.1729550025939752\n"
     ]
    }
   ],
   "source": [
    "#fit model to training data\n",
    "estimator.fit(X_train, y_train)\n",
    "\n",
    "#Prediction on training and validation data\n",
    "y_pred_train5 = estimator.predict(X_train)\n",
    "y_pred_val5 = estimator.predict(X_val)\n",
    "\n",
    "#R2 and RMSE for training and validation data\n",
    "r2_train5 = r2_score(y_train, y_pred_train5)\n",
    "r2_val5 = r2_score(y_val, y_pred_val5)\n",
    "\n",
    "mse_train5 = mean_squared_error(y_train, y_pred_train5)\n",
    "mse_val5 = mean_squared_error(y_val, y_pred_val5)\n",
    "\n",
    "print(\"Training R2:\", r2_train5)\n",
    "print(\"Validation R2:\", r2_val5)\n",
    "print(\"Training RMSE:\", np.sqrt(mse_train5))\n",
    "print(\"Validation RMSE:\", np.sqrt(mse_val5))"
   ]
  },
  {
   "cell_type": "markdown",
   "metadata": {},
   "source": [
    "### Q5 [10]"
   ]
  },
  {
   "cell_type": "markdown",
   "metadata": {},
   "source": [
    "- Take RBF Kernel SVM and perform hyperparameter tuning. See if you can increase the $R^2$ score.   \n",
    "    - Use:  \n",
    "          'C': [1, 10, 100, 1000]\n",
    "          'gamma': [0.001, 0.01, 0.1, 1]  \n",
    "\n",
    "    - What is the model $R^2$?\n",
    "    - What is the $R^2$ on validation data?\n",
    "    - What is the RMSE on training data?\n",
    "    - What is the RMSE on validation data?"
   ]
  },
  {
   "cell_type": "code",
   "execution_count": 62,
   "metadata": {},
   "outputs": [],
   "source": [
    "from sklearn.model_selection import GridSearchCV"
   ]
  },
  {
   "cell_type": "code",
   "execution_count": 69,
   "metadata": {},
   "outputs": [
    {
     "name": "stdout",
     "output_type": "stream",
     "text": [
      "Training R2: 0.792240509871014\n",
      "Validation R2: 0.7568500533368783\n",
      "Training RMSE: 1.0002485869508342\n",
      "Validation RMSE: 1.1513004313829813\n"
     ]
    }
   ],
   "source": [
    "param_grid = {\n",
    "    'C': [1, 10, 100, 1000],\n",
    "    'gamma': [0.001, 0.01, 0.1, 1]\n",
    "}\n",
    "\n",
    "grid_search = GridSearchCV(estimator, param_grid, cv=5, scoring='r2')\n",
    "grid_search.fit(X_train, y_train)\n",
    "\n",
    "best_estimator = grid_search.best_estimator_\n",
    "y_pred_train6 = best_estimator.predict(X_train)\n",
    "y_pred_val6 = best_estimator.predict(X_val)\n",
    "\n",
    "#R2 and RMSE for training and validation data\n",
    "r2_train6 = r2_score(y_train, y_pred_train6)\n",
    "r2_val6 = r2_score(y_val, y_pred_val6)\n",
    "\n",
    "mse_train6 = mean_squared_error(y_train, y_pred_train6)\n",
    "mse_val6 = mean_squared_error(y_val, y_pred_val6)\n",
    "\n",
    "print(\"Training R2:\", r2_train6)\n",
    "print(\"Validation R2:\", r2_val6)\n",
    "print(\"Training RMSE:\", np.sqrt(mse_train6))\n",
    "print(\"Validation RMSE:\", np.sqrt(mse_val6))"
   ]
  },
  {
   "cell_type": "markdown",
   "metadata": {},
   "source": [
    "## Q6 [10]"
   ]
  },
  {
   "cell_type": "markdown",
   "metadata": {},
   "source": [
    "- Apply PCA and transform the data. \n",
    "    - For PCA we need to decide on the number of  components. Take sufficient number of components based on variance explained \n",
    "        - generally it is chosen as the number of components that can explain 90% of the variance \n",
    "        - or cross-validation accuracy using an ML model.\n",
    "\n",
    "- Use the PCA transformed data to perform regression. Use the models: \n",
    "    - Linear Regression\n",
    "    - Random Forest Regression (Optional to do hyper parameter tuning)\n",
    "    - RBF Kernel Support Vector Regression (Optional to do hyper parameter tuning)\n",
    "  \n",
    "- For each model:  \n",
    "    - What is the model $R^2$?\n",
    "    - What is the $R^2$ on validation data?\n",
    "    - What is the RMSE on training data?\n",
    "    - What is the RMSE on validation data?\n",
    "    \n",
    "- Compare these models with their counterparts obtained before. For example: Compare `PCA RBF SVR` with the `RBF SVR` model from before. Do you observe any change in performance? Please explain. \n"
   ]
  },
  {
   "cell_type": "code",
   "execution_count": 70,
   "metadata": {},
   "outputs": [],
   "source": [
    "from sklearn.decomposition import PCA"
   ]
  },
  {
   "cell_type": "code",
   "execution_count": 71,
   "metadata": {},
   "outputs": [],
   "source": [
    "pca = PCA(n_components=None)\n",
    "\n",
    "pca.fit(X_train)\n",
    "X_train_pca = pca.transform(X_train)\n",
    "X_val_pca = pca.transform(X_val)\n",
    "X_test_pca = pca.transform(X_test)"
   ]
  },
  {
   "cell_type": "code",
   "execution_count": 72,
   "metadata": {},
   "outputs": [
    {
     "name": "stdout",
     "output_type": "stream",
     "text": [
      "[0.58158952 0.78924196 0.88751722 0.94337792 0.98704348 0.9959942\n",
      " 0.99975821 0.99992456 1.        ]\n"
     ]
    },
    {
     "data": {
      "image/png": "[encoded data removed]",
      "text/plain": [
       "<Figure size 432x288 with 1 Axes>"
      ]
     },
     "metadata": {
      "needs_background": "light"
     },
     "output_type": "display_data"
    }
   ],
   "source": [
    "print(pca.explained_variance_ratio_.cumsum())\n",
    "plt.plot(pca.explained_variance_ratio_.cumsum(), '-o');\n",
    "plt.xticks(ticks= range(X_train_pca.shape[1]), labels=[i+1 for i in range(X_train_pca.shape[1])])\n",
    "plt.xlabel('Principal Components')\n",
    "plt.ylabel('Variance Explained')\n",
    "plt.show()"
   ]
  },
  {
   "cell_type": "markdown",
   "metadata": {},
   "source": [
    "Choose the number of components."
   ]
  },
  {
   "cell_type": "code",
   "execution_count": 74,
   "metadata": {},
   "outputs": [],
   "source": [
    "X_train_pca2 = X_train_pca[:, 0:5]\n",
    "X_val_pca2 = X_val_pca[:, 0:5]\n",
    "X_test_pca2 = X_test_pca[:, 0:5]"
   ]
  },
  {
   "cell_type": "markdown",
   "metadata": {},
   "source": [
    "**Linear Regression with PCA transformed data**"
   ]
  },
  {
   "cell_type": "code",
   "execution_count": 75,
   "metadata": {},
   "outputs": [
    {
     "name": "stdout",
     "output_type": "stream",
     "text": [
      "Training R2: 0.6557906042002006\n",
      "Validation R2: 0.6333206399655549\n",
      "Training RMSE: 1.2874751982855395\n",
      "Validation RMSE: 1.413822244602062\n"
     ]
    }
   ],
   "source": [
    "lrpca = LinearRegression()\n",
    "\n",
    "#fit model to training data\n",
    "lrpca.fit(X_train_pca2, y_train)\n",
    "\n",
    "#Prediction on training and validation data\n",
    "y_pred_train7 = lrpca.predict(X_train_pca2)\n",
    "y_pred_val7 = lrpca.predict(X_val_pca2)\n",
    "\n",
    "#R2 and RMSE for training and validation data\n",
    "r2_train7 = r2_score(y_train, y_pred_train7)\n",
    "r2_val7 = r2_score(y_val, y_pred_val7)\n",
    "\n",
    "mse_train7 = mean_squared_error(y_train, y_pred_train7)\n",
    "mse_val7 = mean_squared_error(y_val, y_pred_val7)\n",
    "\n",
    "print(\"Training R2:\", r2_train7)\n",
    "print(\"Validation R2:\", r2_val7)\n",
    "print(\"Training RMSE:\", np.sqrt(mse_train7))\n",
    "print(\"Validation RMSE:\", np.sqrt(mse_val7))"
   ]
  },
  {
   "cell_type": "markdown",
   "metadata": {},
   "source": [
    "**RF Regression with PCA transformed data**"
   ]
  },
  {
   "cell_type": "code",
   "execution_count": 76,
   "metadata": {},
   "outputs": [
    {
     "name": "stdout",
     "output_type": "stream",
     "text": [
      "Training R2: 0.9630548121704725\n",
      "Validation R2: 0.7372337558608612\n",
      "Training RMSE: 0.4217998787395343\n",
      "Validation RMSE: 1.1968407422860916\n"
     ]
    }
   ],
   "source": [
    "rfpca = RandomForestRegressor(n_estimators=100, random_state=RANDOM_STATE)\n",
    "#fit model to training data\n",
    "rfpca.fit(X_train_pca2, y_train)\n",
    "\n",
    "#Prediction on training and validation data\n",
    "y_pred_train8 = rfpca.predict(X_train_pca2)\n",
    "y_pred_val8 = rfpca.predict(X_val_pca2)\n",
    "\n",
    "#R2 and RMSE for training and validation data\n",
    "r2_train8 = r2_score(y_train, y_pred_train8)\n",
    "r2_val8 = r2_score(y_val, y_pred_val8)\n",
    "\n",
    "mse_train8 = mean_squared_error(y_train, y_pred_train8)\n",
    "mse_val8 = mean_squared_error(y_val, y_pred_val8)\n",
    "\n",
    "print(\"Training R2:\", r2_train8)\n",
    "print(\"Validation R2:\", r2_val8)\n",
    "print(\"Training RMSE:\", np.sqrt(mse_train8))\n",
    "print(\"Validation RMSE:\", np.sqrt(mse_val8))"
   ]
  },
  {
   "cell_type": "markdown",
   "metadata": {},
   "source": [
    "**SVM Regression with PCA transformed data**"
   ]
  },
  {
   "cell_type": "code",
   "execution_count": 77,
   "metadata": {},
   "outputs": [
    {
     "name": "stdout",
     "output_type": "stream",
     "text": [
      "Training R2: 0.7602260497214572\n",
      "Validation R2: 0.7469051026270978\n",
      "Training RMSE: 1.0745546560256456\n",
      "Validation RMSE: 1.1746088611596983\n"
     ]
    }
   ],
   "source": [
    "svrpca = SVR(kernel='rbf')\n",
    "svrpca.fit(X_train_pca2, y_train)\n",
    "\n",
    "#Prediction on training and validation data\n",
    "y_pred_train9 = svrpca.predict(X_train_pca2)\n",
    "y_pred_val9 = svrpca.predict(X_val_pca2)\n",
    "\n",
    "#R2 and RMSE for training and validation data\n",
    "r2_train9 = r2_score(y_train, y_pred_train9)\n",
    "r2_val9 = r2_score(y_val, y_pred_val9)\n",
    "\n",
    "mse_train9 = mean_squared_error(y_train, y_pred_train9)\n",
    "mse_val9 = mean_squared_error(y_val, y_pred_val9)\n",
    "\n",
    "print(\"Training R2:\", r2_train9)\n",
    "print(\"Validation R2:\", r2_val9)\n",
    "print(\"Training RMSE:\", np.sqrt(mse_train9))\n",
    "print(\"Validation RMSE:\", np.sqrt(mse_val9))"
   ]
  },
  {
   "cell_type": "markdown",
   "metadata": {},
   "source": [
    "- Comparing Linear Regression model to Linear Regression with PCA model, we can see there Training and Validation R2 has decresed in the PCA model but Training and Validation RMSE has increased slightly.\n",
    "- Comapring RF regression model to RF Regression with PCA model, we can see the same slighlt decrease in Training and Validation R2 scores and slight increase in RMSE scores. \n",
    "- SVR RBF with PCA and SVR RBF shows almost the same scores. \n",
    "\n",
    "There is a slight change in performance as PCA is beneficial for reduction of dimensionality trading-off model's performance. Hence, it is worth noting what is in priority for the task while performing PCA. "
   ]
  },
  {
   "cell_type": "markdown",
   "metadata": {},
   "source": [
    "## Q7 [10]"
   ]
  },
  {
   "cell_type": "markdown",
   "metadata": {},
   "source": [
    "#### Let's do  classification "
   ]
  },
  {
   "cell_type": "markdown",
   "metadata": {},
   "source": [
    "We will convert CO target values into binary form by comparing them to a threshold. $ 0 - 3  mg/m^3$ is the range of max 8-hour avg. ambient CO in most US cities. So let's take that.  \n",
    "[CO Levels of Concern in Government Recommendations and Regulations](https://www.carbonmonoxidekills.com/are-you-at-risk/carbon-monoxide-levels/)"
   ]
  },
  {
   "cell_type": "code",
   "execution_count": 78,
   "metadata": {},
   "outputs": [],
   "source": [
    "from sklearn.preprocessing import Binarizer"
   ]
  },
  {
   "cell_type": "code",
   "execution_count": 79,
   "metadata": {},
   "outputs": [],
   "source": [
    "binarizer = Binarizer(threshold=3)"
   ]
  },
  {
   "cell_type": "code",
   "execution_count": 80,
   "metadata": {},
   "outputs": [],
   "source": [
    "y_train_cat = binarizer.transform(y_train.values.reshape(-1,1)).ravel()\n",
    "y_val_cat = binarizer.transform(y_val.values.reshape(-1,1)).ravel()\n",
    "y_test_cat = binarizer.transform(y_test.values.reshape(-1,1)).ravel()"
   ]
  },
  {
   "cell_type": "code",
   "execution_count": 81,
   "metadata": {},
   "outputs": [],
   "source": [
    "y_train_cat = pd.Series(y_train_cat)"
   ]
  },
  {
   "cell_type": "code",
   "execution_count": 82,
   "metadata": {},
   "outputs": [
    {
     "data": {
      "text/plain": [
       "<AxesSubplot:>"
      ]
     },
     "execution_count": 82,
     "metadata": {},
     "output_type": "execute_result"
    },
    {
     "data": {
      "image/png": "[encoded data removed]",
      "text/plain": [
       "<Figure size 432x288 with 1 Axes>"
      ]
     },
     "metadata": {
      "needs_background": "light"
     },
     "output_type": "display_data"
    }
   ],
   "source": [
    "y_train_cat.value_counts().plot.barh()"
   ]
  },
  {
   "cell_type": "markdown",
   "metadata": {},
   "source": [
    "### Fit RBF Kernel SVM Classifier\n",
    "\n",
    "#### 1. Standardized training data \n",
    "- Using the standardized training data perform grid search:\n",
    "    - Find the best combination of the `C` and `gamma` hyper-parameters.  \n",
    "- For the best model:\n",
    "    - Either using the confusion matrix or the methods in `sklearn.metrics` get the following metrics on the validation set:\n",
    "     - Create confusion matrix\n",
    "     - Recall (Sensitivity)\n",
    "     - Specificity\n",
    "     - Precision\n",
    "     - Balanced Accuracy\n",
    "     - F1 Score\n",
    "     \n",
    "\n",
    "#### 2. PCA transformed training data \n",
    "- Using the **pca** transformed training data `X_train_pca2` perform grid search:\n",
    "    - Find the best combination of the `C` and `gamma` hyper-parameters.  \n",
    "- For the best model:\n",
    "    - Either using the confusion matrix or the methods in `sklearn.metrics` get the following metrics on the validation set `X_val_pca2`:\n",
    "         - Create confusion matrix\n",
    "         - Recall (Sensitivity)\n",
    "         - Specificity\n",
    "         - Precision\n",
    "         - Balanced Accuracy\n",
    "         - F1 Score\n"
   ]
  },
  {
   "cell_type": "code",
   "execution_count": 83,
   "metadata": {},
   "outputs": [],
   "source": [
    "from sklearn.svm import SVC"
   ]
  },
  {
   "cell_type": "code",
   "execution_count": 84,
   "metadata": {},
   "outputs": [],
   "source": [
    "estimator = SVC(kernel ='rbf')"
   ]
  },
  {
   "cell_type": "markdown",
   "metadata": {},
   "source": [
    "#### SVC Model 1 "
   ]
  },
  {
   "cell_type": "code",
   "execution_count": 87,
   "metadata": {},
   "outputs": [
    {
     "name": "stdout",
     "output_type": "stream",
     "text": [
      "[[762  50]\n",
      " [ 68 449]]\n",
      "Recall (Sensitivity): 0.8684719535783365\n",
      "Precision: 0.8997995991983968\n",
      "Accuracy: 0.9112114371708051\n",
      "F1 Score: 0.8838582677165354\n",
      "Balanced Accuracy: 0.9034477994492668\n"
     ]
    }
   ],
   "source": [
    "estimator.fit(X_train, y_train_cat)\n",
    "\n",
    "param_grid = {'C': [0.1, 1, 10, 100], 'gamma': [0.001, 0.01, 0.1, 1]}\n",
    "grid_search = GridSearchCV(estimator, param_grid, cv=5, scoring='accuracy')\n",
    "grid_search.fit(X_train, y_train_cat)\n",
    "\n",
    "bestmodel1 = grid_search.best_estimator_\n",
    "\n",
    "ypred_val = bestmodel1.predict(X_val)\n",
    "\n",
    "conf_matrix1 = confusion_matrix(y_val_cat, ypred_val)\n",
    "recall1 = recall_score(y_val_cat, ypred_val)\n",
    "precision1 = precision_score(y_val_cat, ypred_val)\n",
    "accuracy1 = accuracy_score(y_val_cat, ypred_val)\n",
    "f1_score1 = f1_score(y_val_cat, ypred_val)\n",
    "balanced_accuracy1 = balanced_accuracy_score(y_val_cat, ypred_val)\n",
    "\n",
    "\n",
    "print(conf_matrix1)\n",
    "print(\"Recall (Sensitivity):\", recall1)\n",
    "print(\"Precision:\", precision1)\n",
    "print(\"Accuracy:\", accuracy1)\n",
    "print(\"F1 Score:\", f1_score1)\n",
    "print(\"Balanced Accuracy:\", balanced_accuracy1)"
   ]
  },
  {
   "cell_type": "markdown",
   "metadata": {},
   "source": [
    "#### SVC Model 2"
   ]
  },
  {
   "cell_type": "code",
   "execution_count": 88,
   "metadata": {},
   "outputs": [
    {
     "name": "stdout",
     "output_type": "stream",
     "text": [
      "[[764  48]\n",
      " [ 70 447]]\n",
      "Recall (Sensitivity): 0.8646034816247582\n",
      "Precision: 0.9030303030303031\n",
      "Accuracy: 0.9112114371708051\n",
      "F1 Score: 0.8833992094861659\n",
      "Balanced Accuracy: 0.9027450905660737\n"
     ]
    }
   ],
   "source": [
    "estimator.fit(X_train_pca2, y_train_cat)\n",
    "\n",
    "param_grid = {'C': [0.1, 1, 10, 100], 'gamma': [0.001, 0.01, 0.1, 1]}\n",
    "grid_search2 = GridSearchCV(estimator, param_grid, cv=5, scoring='accuracy')\n",
    "grid_search2.fit(X_train_pca2, y_train_cat)\n",
    "\n",
    "bestmodel2 = grid_search2.best_estimator_\n",
    "\n",
    "ypred_val2 = bestmodel2.predict(X_val_pca2)\n",
    "\n",
    "conf_matrix2 = confusion_matrix(y_val_cat, ypred_val2)\n",
    "recall2 = recall_score(y_val_cat, ypred_val2)\n",
    "precision2 = precision_score(y_val_cat, ypred_val2)\n",
    "accuracy2 = accuracy_score(y_val_cat, ypred_val2)\n",
    "f1_score2 = f1_score(y_val_cat, ypred_val2)\n",
    "balanced_accuracy2 = balanced_accuracy_score(y_val_cat, ypred_val2)\n",
    "\n",
    "\n",
    "print(conf_matrix2)\n",
    "print(\"Recall (Sensitivity):\", recall2)\n",
    "print(\"Precision:\", precision2)\n",
    "print(\"Accuracy:\", accuracy2)\n",
    "print(\"F1 Score:\", f1_score2)\n",
    "print(\"Balanced Accuracy:\", balanced_accuracy)"
   ]
  },
  {
   "cell_type": "markdown",
   "metadata": {},
   "source": [
    "## Q8 [10]"
   ]
  },
  {
   "cell_type": "markdown",
   "metadata": {},
   "source": [
    "- For regression:\n",
    "    - Think of other ways of improving the regression performance and list at least two possibilities.\n",
    "    - You can use any of the datasets we have been using (standardized data, PCA transformed data), or re-create your own set from the original.\n",
    "    - Implement both of the methods you proposed. \n",
    "    - Is the validation performance increasing? For performance comparison you can use any regression performance metric that you deem to be appropriate. \n",
    "    - Optional: Apply different methods, ideas as you see fit and see if the validation performance is improving."
   ]
  },
  {
   "cell_type": "markdown",
   "metadata": {},
   "source": [
    "We can do **Polynomial Features** and **Gradient Boosinting Regressor** to improve the regression performance"
   ]
  },
  {
   "cell_type": "code",
   "execution_count": 97,
   "metadata": {},
   "outputs": [
    {
     "name": "stdout",
     "output_type": "stream",
     "text": [
      "Training R2: 0.7691883892609054\n",
      "Validation R2: 0.7399170869980767\n"
     ]
    }
   ],
   "source": [
    "from sklearn.preprocessing import PolynomialFeatures\n",
    "\n",
    "poly = PolynomialFeatures(degree=2)\n",
    "X_train_poly = poly.fit_transform(X_train)\n",
    "X_val_poly = poly.transform(X_val)\n",
    "\n",
    "lr_poly = LinearRegression()\n",
    "lr_poly.fit(X_train_poly, y_train)\n",
    "\n",
    "y_pred_train_poly = lr_poly.predict(X_train_poly)\n",
    "y_pred_val_poly = lr_poly.predict(X_val_poly)\n",
    "\n",
    "r2_train_poly = r2_score(y_train, y_pred_train_poly)\n",
    "r2_val_poly = r2_score(y_val, y_pred_val_poly)\n",
    "\n",
    "print(\"Training R2:\", r2_train_poly)\n",
    "print(\"Validation R2:\", r2_val_poly)\n"
   ]
  },
  {
   "cell_type": "code",
   "execution_count": 96,
   "metadata": {},
   "outputs": [
    {
     "name": "stdout",
     "output_type": "stream",
     "text": [
      "Training R2: 0.8847367660221577\n",
      "Validation R2: 0.7438798294656955\n"
     ]
    }
   ],
   "source": [
    "from sklearn.ensemble import GradientBoostingRegressor\n",
    "\n",
    "gbr = GradientBoostingRegressor()\n",
    "gbr.fit(X_train, y_train)\n",
    "\n",
    "y_pred_train_gbr = gbr.predict(X_train)\n",
    "y_pred_val_gbr = gbr.predict(X_val)\n",
    "\n",
    "r2_train_gbr = r2_score(y_train, y_pred_train_gbr)\n",
    "r2_val_gbr = r2_score(y_val, y_pred_val_gbr)\n",
    "\n",
    "\n",
    "print(\"Training R2:\", r2_train_gbr)\n",
    "print(\"Validation R2:\", r2_val_gbr)"
   ]
  },
  {
   "cell_type": "markdown",
   "metadata": {},
   "source": [
    "We can see that Validation score of the regression has increased in both the methods used above compared to Linear Regression validation R2 score performed initially. "
   ]
  },
  {
   "cell_type": "markdown",
   "metadata": {},
   "source": [
    "## Q9 [10]"
   ]
  },
  {
   "cell_type": "markdown",
   "metadata": {},
   "source": [
    "- For classification:\n",
    "    - Try at least one classifier other than SVM (RF, GBM, Logistic Regression, etc). \n",
    "    - Think of other ways of improving the regression performance and list at least two possibilities.\n",
    "    - You can use any of the datasets we have been using (standardized data, PCA transformed data), or re-create your own set from the original.\n",
    "    - Implement both of the methods you proposed. \n",
    "    - Is the validation performance increasing? For performance comparison you can use any regression performance metric that you deem to be appropriate. \n",
    "    - Optional: Apply different methods, ideas as you see fit and see if the validation performance is improving."
   ]
  },
  {
   "cell_type": "code",
   "execution_count": 102,
   "metadata": {},
   "outputs": [],
   "source": [
    "# Gradient Boosting Machine\n",
    "from sklearn.ensemble import GradientBoostingClassifier\n",
    "gbm = GradientBoostingClassifier(n_estimators=100, learning_rate=1.0, max_depth=1, random_state=0)\n",
    "gbm.fit(X_train, y_train_cat)\n",
    "ypred_val_gbm = gbm.predict(X_val)"
   ]
  },
  {
   "cell_type": "code",
   "execution_count": 104,
   "metadata": {},
   "outputs": [
    {
     "name": "stdout",
     "output_type": "stream",
     "text": [
      "Confusion Matrix:\n",
      " [[758  54]\n",
      " [ 74 443]]\n",
      "Recall (Sensitivity): 0.8568665377176016\n",
      "Precision: 0.8913480885311871\n",
      "Accuracy: 0.9036869826937547\n",
      "F1 Score: 0.8737672583826429\n",
      "Balanced Accuracy: 0.8951820373317072\n"
     ]
    }
   ],
   "source": [
    "#Performance metrics for Gradient Boosting Machine\n",
    "conf_matrix_gbm = confusion_matrix(y_val_cat, ypred_val_gbm)\n",
    "recall_gbm = recall_score(y_val_cat, ypred_val_gbm)\n",
    "precision_gbm = precision_score(y_val_cat, ypred_val_gbm)\n",
    "accuracy_gbm = accuracy_score(y_val_cat, ypred_val_gbm)\n",
    "f1_score_gbm = f1_score(y_val_cat, ypred_val_gbm)\n",
    "balanced_accuracy_gbm = balanced_accuracy_score(y_val_cat, ypred_val_gbm)\n",
    "\n",
    "print(\"Confusion Matrix:\\n\", conf_matrix_gbm)\n",
    "print(\"Recall (Sensitivity):\", recall_gbm)\n",
    "print(\"Precision:\", precision_gbm)\n",
    "print(\"Accuracy:\", accuracy_gbm)\n",
    "print(\"F1 Score:\", f1_score_gbm)\n",
    "print(\"Balanced Accuracy:\", balanced_accuracy_gbm)"
   ]
  },
  {
   "cell_type": "markdown",
   "metadata": {},
   "source": [
    "## Q10 [10]"
   ]
  },
  {
   "cell_type": "markdown",
   "metadata": {},
   "source": [
    "- Choose the best 2 regressors among the trained regressions models:\n",
    "- Create a table summarizing results on the **test** set for regression (with target variables in `y_test`):\n",
    "    - Show the R^2 and RMSE performance metrics on test data for each model.\n",
    "- Which model is best for regression? Is this in line with your analysis (the validation performance of the models) or is this not expected?\n",
    "\n",
    "\n",
    "\n",
    "- Choose the best 2 classifiers among the trained classification models:\n",
    "- Create a table summarizing results on the **test** set for classification (with target variables in `y_test_cat`):\n",
    "    - Show the classification performance metrics (accuracy, recall, precision, f1-score, etc.) on test data for each model. \n",
    "- Which model is best for classification? Is this in line with your analysis (the validation performance of the models) or is this not expected? \n",
    "\n",
    "\n",
    "\n",
    "> Note that the same transformation used during training should be applied on the testing set. (If you applied PCA on training data for the selected model, you need to apply PCA on the testing set as well.) \n",
    "\n"
   ]
  },
  {
   "cell_type": "code",
   "execution_count": 108,
   "metadata": {},
   "outputs": [
    {
     "name": "stdout",
     "output_type": "stream",
     "text": [
      "Random Forest Regressor Test Performance:\n",
      "R2: 0.5393754774082125\n",
      "RMSE: 1.5839418469792836\n",
      "\n",
      "Support Vector Regressor Test Performance:\n",
      "R2: 0.5105320772237196\n",
      "RMSE: 1.632780567840026\n"
     ]
    }
   ],
   "source": [
    "# YOUR CODE\n",
    "# Prediction on test data\n",
    "y_pred_test_imp = estimator_imp.predict(X_test)\n",
    "y_pred_test4 = estimator.predict(X_test)\n",
    "\n",
    "# R2 and RMSE for test data\n",
    "r2_test_imp = r2_score(y_test, y_pred_test_imp)\n",
    "r2_test4 = r2_score(y_test, y_pred_test4)\n",
    "\n",
    "mse_test_imp = mean_squared_error(y_test, y_pred_test_imp)\n",
    "mse_test4 = mean_squared_error(y_test, y_pred_test4)\n",
    "\n",
    "# Print performance metrics\n",
    "print(\"Random Forest Regressor Test Performance:\")\n",
    "print(\"R2:\", r2_test_imp)\n",
    "print(\"RMSE:\", np.sqrt(mse_test_imp))\n",
    "\n",
    "print(\"\\nSupport Vector Regressor Test Performance:\")\n",
    "print(\"R2:\", r2_test4)\n",
    "print(\"RMSE:\", np.sqrt(mse_test4))\n"
   ]
  },
  {
   "cell_type": "markdown",
   "metadata": {},
   "source": [
    "Random Forest Regressor with parametrer tuning is the best model. But I was expecting a much more better performance on the testing model. "
   ]
  },
  {
   "cell_type": "markdown",
   "metadata": {},
   "source": [
    "- What did you learn in this project? Any suggestions?"
   ]
  },
  {
   "cell_type": "markdown",
   "metadata": {},
   "source": [
    "# Your comments\n",
    "This assignment really helps in choosing right models and gives an idea of various steps we can take to improve a particular we find interesting!"
   ]
  },
  {
   "cell_type": "markdown",
   "metadata": {},
   "source": [
    "# Thank you\n",
    "Ilyas Ustun  \n",
    "twitter: \\_ilyas\\_ustun\\_"
   ]
  }
 ],
 "metadata": {
  "kernelspec": {
   "display_name": "Python 3 (ipykernel)",
   "language": "python",
   "name": "python3"
  },
  "language_info": {
   "codemirror_mode": {
    "name": "ipython",
    "version": 3
   },
   "file_extension": ".py",
   "mimetype": "text/x-python",
   "name": "python",
   "nbconvert_exporter": "python",
   "pygments_lexer": "ipython3",
   "version": "3.9.12"
  },
  "toc": {
   "base_numbering": 1,
   "nav_menu": {},
   "number_sections": false,
   "sideBar": false,
   "skip_h1_title": false,
   "title_cell": "Table of Contents",
   "title_sidebar": "Contents",
   "toc_cell": false,
   "toc_position": {},
   "toc_section_display": false,
   "toc_window_display": false
  }
 },
 "nbformat": 4,
 "nbformat_minor": 4
}
